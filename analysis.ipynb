{
 "cells": [
  {
   "cell_type": "code",
   "execution_count": 1,
   "id": "1b81dc9d",
   "metadata": {},
   "outputs": [
    {
     "name": "stdout",
     "output_type": "stream",
     "text": [
      "Collecting plotly\n",
      "  Downloading plotly-5.17.0-py2.py3-none-any.whl (15.6 MB)\n",
      "     ---------------------------------------- 15.6/15.6 MB 8.1 MB/s eta 0:00:00\n",
      "Collecting tenacity>=6.2.0 (from plotly)\n",
      "  Downloading tenacity-8.2.3-py3-none-any.whl (24 kB)\n",
      "Requirement already satisfied: packaging in c:\\users\\hp\\appdata\\local\\programs\\python\\python39\\lib\\site-packages (from plotly) (21.3)\n",
      "Requirement already satisfied: pyparsing!=3.0.5,>=2.0.2 in c:\\users\\hp\\appdata\\local\\programs\\python\\python39\\lib\\site-packages (from packaging->plotly) (3.0.9)\n",
      "Installing collected packages: tenacity, plotly\n",
      "Successfully installed plotly-5.17.0 tenacity-8.2.3\n"
     ]
    },
    {
     "name": "stderr",
     "output_type": "stream",
     "text": [
      "\n",
      "[notice] A new release of pip is available: 23.1.2 -> 23.2.1\n",
      "[notice] To update, run: python.exe -m pip install --upgrade pip\n"
     ]
    },
    {
     "name": "stdout",
     "output_type": "stream",
     "text": [
      "Collecting textblob\n",
      "  Downloading textblob-0.17.1-py2.py3-none-any.whl (636 kB)\n",
      "     -------------------------------------- 636.8/636.8 kB 6.7 MB/s eta 0:00:00\n",
      "Requirement already satisfied: nltk>=3.1 in c:\\users\\hp\\appdata\\local\\programs\\python\\python39\\lib\\site-packages (from textblob) (3.7)\n",
      "Requirement already satisfied: click in c:\\users\\hp\\appdata\\local\\programs\\python\\python39\\lib\\site-packages (from nltk>=3.1->textblob) (8.1.1)\n",
      "Requirement already satisfied: joblib in c:\\users\\hp\\appdata\\local\\programs\\python\\python39\\lib\\site-packages (from nltk>=3.1->textblob) (1.1.0)\n",
      "Requirement already satisfied: regex>=2021.8.3 in c:\\users\\hp\\appdata\\local\\programs\\python\\python39\\lib\\site-packages (from nltk>=3.1->textblob) (2022.4.24)\n",
      "Requirement already satisfied: tqdm in c:\\users\\hp\\appdata\\local\\programs\\python\\python39\\lib\\site-packages (from nltk>=3.1->textblob) (4.62.3)\n",
      "Requirement already satisfied: colorama in c:\\users\\hp\\appdata\\local\\programs\\python\\python39\\lib\\site-packages (from click->nltk>=3.1->textblob) (0.4.4)\n",
      "Installing collected packages: textblob\n",
      "Successfully installed textblob-0.17.1\n"
     ]
    },
    {
     "name": "stderr",
     "output_type": "stream",
     "text": [
      "\n",
      "[notice] A new release of pip is available: 23.1.2 -> 23.2.1\n",
      "[notice] To update, run: python.exe -m pip install --upgrade pip\n"
     ]
    }
   ],
   "source": [
    "!pip install plotly\n",
    "!pip install textblob"
   ]
  },
  {
   "cell_type": "code",
   "execution_count": 2,
   "id": "e8db9347-36a7-40dd-849a-3216bec4663d",
   "metadata": {
    "tags": []
   },
   "outputs": [],
   "source": [
    "import pandas as pd\n",
    "import matplotlib.pyplot as plt\n",
    "import plotly.graph_objs as go\n",
    "from textblob import TextBlob"
   ]
  },
  {
   "cell_type": "code",
   "execution_count": 3,
   "id": "1482e45f-629c-48b9-89a4-bf206a13e218",
   "metadata": {
    "tags": []
   },
   "outputs": [
    {
     "data": {
      "text/html": [
       "<div>\n",
       "<style scoped>\n",
       "    .dataframe tbody tr th:only-of-type {\n",
       "        vertical-align: middle;\n",
       "    }\n",
       "\n",
       "    .dataframe tbody tr th {\n",
       "        vertical-align: top;\n",
       "    }\n",
       "\n",
       "    .dataframe thead th {\n",
       "        text-align: right;\n",
       "    }\n",
       "</style>\n",
       "<table border=\"1\" class=\"dataframe\">\n",
       "  <thead>\n",
       "    <tr style=\"text-align: right;\">\n",
       "      <th></th>\n",
       "      <th>endTime</th>\n",
       "      <th>artistName</th>\n",
       "      <th>trackName</th>\n",
       "      <th>msPlayed</th>\n",
       "    </tr>\n",
       "  </thead>\n",
       "  <tbody>\n",
       "    <tr>\n",
       "      <th>0</th>\n",
       "      <td>2021-11-04 11:16</td>\n",
       "      <td>Morris the Friend</td>\n",
       "      <td>Orange Room</td>\n",
       "      <td>156973</td>\n",
       "    </tr>\n",
       "    <tr>\n",
       "      <th>1</th>\n",
       "      <td>2021-11-04 11:20</td>\n",
       "      <td>Tame Impala</td>\n",
       "      <td>Breathe Deeper - Lil Yachty Remix</td>\n",
       "      <td>288386</td>\n",
       "    </tr>\n",
       "    <tr>\n",
       "      <th>2</th>\n",
       "      <td>2021-11-04 11:24</td>\n",
       "      <td>AUDREY NUNA</td>\n",
       "      <td>Top Again (feat. Saba)</td>\n",
       "      <td>187466</td>\n",
       "    </tr>\n",
       "    <tr>\n",
       "      <th>3</th>\n",
       "      <td>2021-11-04 11:28</td>\n",
       "      <td>Jelani Aryeh</td>\n",
       "      <td>Marigold</td>\n",
       "      <td>243113</td>\n",
       "    </tr>\n",
       "    <tr>\n",
       "      <th>4</th>\n",
       "      <td>2021-11-04 11:42</td>\n",
       "      <td>PHFAT</td>\n",
       "      <td>Whatever You Like</td>\n",
       "      <td>41683</td>\n",
       "    </tr>\n",
       "    <tr>\n",
       "      <th>...</th>\n",
       "      <td>...</td>\n",
       "      <td>...</td>\n",
       "      <td>...</td>\n",
       "      <td>...</td>\n",
       "    </tr>\n",
       "    <tr>\n",
       "      <th>828</th>\n",
       "      <td>2022-04-25 07:32</td>\n",
       "      <td>6LACK</td>\n",
       "      <td>Let Her Go</td>\n",
       "      <td>177171</td>\n",
       "    </tr>\n",
       "    <tr>\n",
       "      <th>829</th>\n",
       "      <td>2022-04-25 07:36</td>\n",
       "      <td>6LACK</td>\n",
       "      <td>Sorry</td>\n",
       "      <td>210177</td>\n",
       "    </tr>\n",
       "    <tr>\n",
       "      <th>830</th>\n",
       "      <td>2022-04-25 07:40</td>\n",
       "      <td>6LACK</td>\n",
       "      <td>Pretty Little Fears (feat. J. Cole)</td>\n",
       "      <td>240341</td>\n",
       "    </tr>\n",
       "    <tr>\n",
       "      <th>831</th>\n",
       "      <td>2022-04-25 07:44</td>\n",
       "      <td>6LACK</td>\n",
       "      <td>Disconnect</td>\n",
       "      <td>248675</td>\n",
       "    </tr>\n",
       "    <tr>\n",
       "      <th>832</th>\n",
       "      <td>2022-04-25 07:47</td>\n",
       "      <td>6LACK</td>\n",
       "      <td>Switch</td>\n",
       "      <td>207071</td>\n",
       "    </tr>\n",
       "  </tbody>\n",
       "</table>\n",
       "<p>833 rows × 4 columns</p>\n",
       "</div>"
      ],
      "text/plain": [
       "              endTime         artistName                            trackName  \\\n",
       "0    2021-11-04 11:16  Morris the Friend                          Orange Room   \n",
       "1    2021-11-04 11:20        Tame Impala    Breathe Deeper - Lil Yachty Remix   \n",
       "2    2021-11-04 11:24        AUDREY NUNA               Top Again (feat. Saba)   \n",
       "3    2021-11-04 11:28       Jelani Aryeh                             Marigold   \n",
       "4    2021-11-04 11:42              PHFAT                    Whatever You Like   \n",
       "..                ...                ...                                  ...   \n",
       "828  2022-04-25 07:32              6LACK                           Let Her Go   \n",
       "829  2022-04-25 07:36              6LACK                                Sorry   \n",
       "830  2022-04-25 07:40              6LACK  Pretty Little Fears (feat. J. Cole)   \n",
       "831  2022-04-25 07:44              6LACK                           Disconnect   \n",
       "832  2022-04-25 07:47              6LACK                               Switch   \n",
       "\n",
       "     msPlayed  \n",
       "0      156973  \n",
       "1      288386  \n",
       "2      187466  \n",
       "3      243113  \n",
       "4       41683  \n",
       "..        ...  \n",
       "828    177171  \n",
       "829    210177  \n",
       "830    240341  \n",
       "831    248675  \n",
       "832    207071  \n",
       "\n",
       "[833 rows x 4 columns]"
      ]
     },
     "execution_count": 3,
     "metadata": {},
     "output_type": "execute_result"
    }
   ],
   "source": [
    "df_strm = pd.read_json('StreamingHistory.json')\n",
    "df_strm"
   ]
  },
  {
   "cell_type": "code",
   "execution_count": 4,
   "id": "026fc9c9-266b-4215-80b1-881332dbd7bd",
   "metadata": {
    "tags": []
   },
   "outputs": [
    {
     "name": "stderr",
     "output_type": "stream",
     "text": [
      "/tmp/ipykernel_159285/2046056356.py:4: FutureWarning: The default value of numeric_only in DataFrameGroupBy.sum is deprecated. In a future version, numeric_only will default to False. Either specify numeric_only or select only columns which should be valid for the function.\n",
      "  weekly_avg_time = df_strm.resample('W').sum()['msPlayed'] / (1000 * 60)\n"
     ]
    },
    {
     "data": {
      "application/vnd.plotly.v1+json": {
       "config": {
        "plotlyServerURL": "https://plot.ly"
       },
       "data": [
        {
         "mode": "lines+markers",
         "type": "scatter",
         "x": [
          "2021-11-07T00:00:00",
          "2021-11-14T00:00:00",
          "2021-11-21T00:00:00",
          "2021-11-28T00:00:00",
          "2021-12-05T00:00:00",
          "2021-12-12T00:00:00",
          "2021-12-19T00:00:00",
          "2021-12-26T00:00:00",
          "2022-01-02T00:00:00",
          "2022-01-09T00:00:00",
          "2022-01-16T00:00:00",
          "2022-01-23T00:00:00",
          "2022-01-30T00:00:00",
          "2022-02-06T00:00:00",
          "2022-02-13T00:00:00",
          "2022-02-20T00:00:00",
          "2022-02-27T00:00:00",
          "2022-03-06T00:00:00",
          "2022-03-13T00:00:00",
          "2022-03-20T00:00:00",
          "2022-03-27T00:00:00",
          "2022-04-03T00:00:00",
          "2022-04-10T00:00:00",
          "2022-04-17T00:00:00",
          "2022-04-24T00:00:00",
          "2022-05-01T00:00:00"
         ],
         "y": [
          15.293683333333334,
          45.189416666666666,
          342.1372,
          53.556333333333335,
          0,
          45.947833333333335,
          19.091716666666667,
          87.29466666666667,
          0,
          0,
          111.07146666666667,
          132.34465,
          0,
          0,
          118.75375,
          37.83488333333333,
          178.72851666666668,
          47.4234,
          128.23,
          0,
          132.54865,
          81.01698333333333,
          52.065466666666666,
          87.38555,
          21.463933333333333,
          81.70005
         ]
        }
       ],
       "layout": {
        "template": {
         "data": {
          "bar": [
           {
            "error_x": {
             "color": "#f2f5fa"
            },
            "error_y": {
             "color": "#f2f5fa"
            },
            "marker": {
             "line": {
              "color": "rgb(17,17,17)",
              "width": 0.5
             },
             "pattern": {
              "fillmode": "overlay",
              "size": 10,
              "solidity": 0.2
             }
            },
            "type": "bar"
           }
          ],
          "barpolar": [
           {
            "marker": {
             "line": {
              "color": "rgb(17,17,17)",
              "width": 0.5
             },
             "pattern": {
              "fillmode": "overlay",
              "size": 10,
              "solidity": 0.2
             }
            },
            "type": "barpolar"
           }
          ],
          "carpet": [
           {
            "aaxis": {
             "endlinecolor": "#A2B1C6",
             "gridcolor": "#506784",
             "linecolor": "#506784",
             "minorgridcolor": "#506784",
             "startlinecolor": "#A2B1C6"
            },
            "baxis": {
             "endlinecolor": "#A2B1C6",
             "gridcolor": "#506784",
             "linecolor": "#506784",
             "minorgridcolor": "#506784",
             "startlinecolor": "#A2B1C6"
            },
            "type": "carpet"
           }
          ],
          "choropleth": [
           {
            "colorbar": {
             "outlinewidth": 0,
             "ticks": ""
            },
            "type": "choropleth"
           }
          ],
          "contour": [
           {
            "colorbar": {
             "outlinewidth": 0,
             "ticks": ""
            },
            "colorscale": [
             [
              0,
              "#0d0887"
             ],
             [
              0.1111111111111111,
              "#46039f"
             ],
             [
              0.2222222222222222,
              "#7201a8"
             ],
             [
              0.3333333333333333,
              "#9c179e"
             ],
             [
              0.4444444444444444,
              "#bd3786"
             ],
             [
              0.5555555555555556,
              "#d8576b"
             ],
             [
              0.6666666666666666,
              "#ed7953"
             ],
             [
              0.7777777777777778,
              "#fb9f3a"
             ],
             [
              0.8888888888888888,
              "#fdca26"
             ],
             [
              1,
              "#f0f921"
             ]
            ],
            "type": "contour"
           }
          ],
          "contourcarpet": [
           {
            "colorbar": {
             "outlinewidth": 0,
             "ticks": ""
            },
            "type": "contourcarpet"
           }
          ],
          "heatmap": [
           {
            "colorbar": {
             "outlinewidth": 0,
             "ticks": ""
            },
            "colorscale": [
             [
              0,
              "#0d0887"
             ],
             [
              0.1111111111111111,
              "#46039f"
             ],
             [
              0.2222222222222222,
              "#7201a8"
             ],
             [
              0.3333333333333333,
              "#9c179e"
             ],
             [
              0.4444444444444444,
              "#bd3786"
             ],
             [
              0.5555555555555556,
              "#d8576b"
             ],
             [
              0.6666666666666666,
              "#ed7953"
             ],
             [
              0.7777777777777778,
              "#fb9f3a"
             ],
             [
              0.8888888888888888,
              "#fdca26"
             ],
             [
              1,
              "#f0f921"
             ]
            ],
            "type": "heatmap"
           }
          ],
          "heatmapgl": [
           {
            "colorbar": {
             "outlinewidth": 0,
             "ticks": ""
            },
            "colorscale": [
             [
              0,
              "#0d0887"
             ],
             [
              0.1111111111111111,
              "#46039f"
             ],
             [
              0.2222222222222222,
              "#7201a8"
             ],
             [
              0.3333333333333333,
              "#9c179e"
             ],
             [
              0.4444444444444444,
              "#bd3786"
             ],
             [
              0.5555555555555556,
              "#d8576b"
             ],
             [
              0.6666666666666666,
              "#ed7953"
             ],
             [
              0.7777777777777778,
              "#fb9f3a"
             ],
             [
              0.8888888888888888,
              "#fdca26"
             ],
             [
              1,
              "#f0f921"
             ]
            ],
            "type": "heatmapgl"
           }
          ],
          "histogram": [
           {
            "marker": {
             "pattern": {
              "fillmode": "overlay",
              "size": 10,
              "solidity": 0.2
             }
            },
            "type": "histogram"
           }
          ],
          "histogram2d": [
           {
            "colorbar": {
             "outlinewidth": 0,
             "ticks": ""
            },
            "colorscale": [
             [
              0,
              "#0d0887"
             ],
             [
              0.1111111111111111,
              "#46039f"
             ],
             [
              0.2222222222222222,
              "#7201a8"
             ],
             [
              0.3333333333333333,
              "#9c179e"
             ],
             [
              0.4444444444444444,
              "#bd3786"
             ],
             [
              0.5555555555555556,
              "#d8576b"
             ],
             [
              0.6666666666666666,
              "#ed7953"
             ],
             [
              0.7777777777777778,
              "#fb9f3a"
             ],
             [
              0.8888888888888888,
              "#fdca26"
             ],
             [
              1,
              "#f0f921"
             ]
            ],
            "type": "histogram2d"
           }
          ],
          "histogram2dcontour": [
           {
            "colorbar": {
             "outlinewidth": 0,
             "ticks": ""
            },
            "colorscale": [
             [
              0,
              "#0d0887"
             ],
             [
              0.1111111111111111,
              "#46039f"
             ],
             [
              0.2222222222222222,
              "#7201a8"
             ],
             [
              0.3333333333333333,
              "#9c179e"
             ],
             [
              0.4444444444444444,
              "#bd3786"
             ],
             [
              0.5555555555555556,
              "#d8576b"
             ],
             [
              0.6666666666666666,
              "#ed7953"
             ],
             [
              0.7777777777777778,
              "#fb9f3a"
             ],
             [
              0.8888888888888888,
              "#fdca26"
             ],
             [
              1,
              "#f0f921"
             ]
            ],
            "type": "histogram2dcontour"
           }
          ],
          "mesh3d": [
           {
            "colorbar": {
             "outlinewidth": 0,
             "ticks": ""
            },
            "type": "mesh3d"
           }
          ],
          "parcoords": [
           {
            "line": {
             "colorbar": {
              "outlinewidth": 0,
              "ticks": ""
             }
            },
            "type": "parcoords"
           }
          ],
          "pie": [
           {
            "automargin": true,
            "type": "pie"
           }
          ],
          "scatter": [
           {
            "marker": {
             "line": {
              "color": "#283442"
             }
            },
            "type": "scatter"
           }
          ],
          "scatter3d": [
           {
            "line": {
             "colorbar": {
              "outlinewidth": 0,
              "ticks": ""
             }
            },
            "marker": {
             "colorbar": {
              "outlinewidth": 0,
              "ticks": ""
             }
            },
            "type": "scatter3d"
           }
          ],
          "scattercarpet": [
           {
            "marker": {
             "colorbar": {
              "outlinewidth": 0,
              "ticks": ""
             }
            },
            "type": "scattercarpet"
           }
          ],
          "scattergeo": [
           {
            "marker": {
             "colorbar": {
              "outlinewidth": 0,
              "ticks": ""
             }
            },
            "type": "scattergeo"
           }
          ],
          "scattergl": [
           {
            "marker": {
             "line": {
              "color": "#283442"
             }
            },
            "type": "scattergl"
           }
          ],
          "scattermapbox": [
           {
            "marker": {
             "colorbar": {
              "outlinewidth": 0,
              "ticks": ""
             }
            },
            "type": "scattermapbox"
           }
          ],
          "scatterpolar": [
           {
            "marker": {
             "colorbar": {
              "outlinewidth": 0,
              "ticks": ""
             }
            },
            "type": "scatterpolar"
           }
          ],
          "scatterpolargl": [
           {
            "marker": {
             "colorbar": {
              "outlinewidth": 0,
              "ticks": ""
             }
            },
            "type": "scatterpolargl"
           }
          ],
          "scatterternary": [
           {
            "marker": {
             "colorbar": {
              "outlinewidth": 0,
              "ticks": ""
             }
            },
            "type": "scatterternary"
           }
          ],
          "surface": [
           {
            "colorbar": {
             "outlinewidth": 0,
             "ticks": ""
            },
            "colorscale": [
             [
              0,
              "#0d0887"
             ],
             [
              0.1111111111111111,
              "#46039f"
             ],
             [
              0.2222222222222222,
              "#7201a8"
             ],
             [
              0.3333333333333333,
              "#9c179e"
             ],
             [
              0.4444444444444444,
              "#bd3786"
             ],
             [
              0.5555555555555556,
              "#d8576b"
             ],
             [
              0.6666666666666666,
              "#ed7953"
             ],
             [
              0.7777777777777778,
              "#fb9f3a"
             ],
             [
              0.8888888888888888,
              "#fdca26"
             ],
             [
              1,
              "#f0f921"
             ]
            ],
            "type": "surface"
           }
          ],
          "table": [
           {
            "cells": {
             "fill": {
              "color": "#506784"
             },
             "line": {
              "color": "rgb(17,17,17)"
             }
            },
            "header": {
             "fill": {
              "color": "#2a3f5f"
             },
             "line": {
              "color": "rgb(17,17,17)"
             }
            },
            "type": "table"
           }
          ]
         },
         "layout": {
          "annotationdefaults": {
           "arrowcolor": "#f2f5fa",
           "arrowhead": 0,
           "arrowwidth": 1
          },
          "autotypenumbers": "strict",
          "coloraxis": {
           "colorbar": {
            "outlinewidth": 0,
            "ticks": ""
           }
          },
          "colorscale": {
           "diverging": [
            [
             0,
             "#8e0152"
            ],
            [
             0.1,
             "#c51b7d"
            ],
            [
             0.2,
             "#de77ae"
            ],
            [
             0.3,
             "#f1b6da"
            ],
            [
             0.4,
             "#fde0ef"
            ],
            [
             0.5,
             "#f7f7f7"
            ],
            [
             0.6,
             "#e6f5d0"
            ],
            [
             0.7,
             "#b8e186"
            ],
            [
             0.8,
             "#7fbc41"
            ],
            [
             0.9,
             "#4d9221"
            ],
            [
             1,
             "#276419"
            ]
           ],
           "sequential": [
            [
             0,
             "#0d0887"
            ],
            [
             0.1111111111111111,
             "#46039f"
            ],
            [
             0.2222222222222222,
             "#7201a8"
            ],
            [
             0.3333333333333333,
             "#9c179e"
            ],
            [
             0.4444444444444444,
             "#bd3786"
            ],
            [
             0.5555555555555556,
             "#d8576b"
            ],
            [
             0.6666666666666666,
             "#ed7953"
            ],
            [
             0.7777777777777778,
             "#fb9f3a"
            ],
            [
             0.8888888888888888,
             "#fdca26"
            ],
            [
             1,
             "#f0f921"
            ]
           ],
           "sequentialminus": [
            [
             0,
             "#0d0887"
            ],
            [
             0.1111111111111111,
             "#46039f"
            ],
            [
             0.2222222222222222,
             "#7201a8"
            ],
            [
             0.3333333333333333,
             "#9c179e"
            ],
            [
             0.4444444444444444,
             "#bd3786"
            ],
            [
             0.5555555555555556,
             "#d8576b"
            ],
            [
             0.6666666666666666,
             "#ed7953"
            ],
            [
             0.7777777777777778,
             "#fb9f3a"
            ],
            [
             0.8888888888888888,
             "#fdca26"
            ],
            [
             1,
             "#f0f921"
            ]
           ]
          },
          "colorway": [
           "#636efa",
           "#EF553B",
           "#00cc96",
           "#ab63fa",
           "#FFA15A",
           "#19d3f3",
           "#FF6692",
           "#B6E880",
           "#FF97FF",
           "#FECB52"
          ],
          "font": {
           "color": "#f2f5fa"
          },
          "geo": {
           "bgcolor": "rgb(17,17,17)",
           "lakecolor": "rgb(17,17,17)",
           "landcolor": "rgb(17,17,17)",
           "showlakes": true,
           "showland": true,
           "subunitcolor": "#506784"
          },
          "hoverlabel": {
           "align": "left"
          },
          "hovermode": "closest",
          "mapbox": {
           "style": "dark"
          },
          "paper_bgcolor": "rgb(17,17,17)",
          "plot_bgcolor": "rgb(17,17,17)",
          "polar": {
           "angularaxis": {
            "gridcolor": "#506784",
            "linecolor": "#506784",
            "ticks": ""
           },
           "bgcolor": "rgb(17,17,17)",
           "radialaxis": {
            "gridcolor": "#506784",
            "linecolor": "#506784",
            "ticks": ""
           }
          },
          "scene": {
           "xaxis": {
            "backgroundcolor": "rgb(17,17,17)",
            "gridcolor": "#506784",
            "gridwidth": 2,
            "linecolor": "#506784",
            "showbackground": true,
            "ticks": "",
            "zerolinecolor": "#C8D4E3"
           },
           "yaxis": {
            "backgroundcolor": "rgb(17,17,17)",
            "gridcolor": "#506784",
            "gridwidth": 2,
            "linecolor": "#506784",
            "showbackground": true,
            "ticks": "",
            "zerolinecolor": "#C8D4E3"
           },
           "zaxis": {
            "backgroundcolor": "rgb(17,17,17)",
            "gridcolor": "#506784",
            "gridwidth": 2,
            "linecolor": "#506784",
            "showbackground": true,
            "ticks": "",
            "zerolinecolor": "#C8D4E3"
           }
          },
          "shapedefaults": {
           "line": {
            "color": "#f2f5fa"
           }
          },
          "sliderdefaults": {
           "bgcolor": "#C8D4E3",
           "bordercolor": "rgb(17,17,17)",
           "borderwidth": 1,
           "tickwidth": 0
          },
          "ternary": {
           "aaxis": {
            "gridcolor": "#506784",
            "linecolor": "#506784",
            "ticks": ""
           },
           "baxis": {
            "gridcolor": "#506784",
            "linecolor": "#506784",
            "ticks": ""
           },
           "bgcolor": "rgb(17,17,17)",
           "caxis": {
            "gridcolor": "#506784",
            "linecolor": "#506784",
            "ticks": ""
           }
          },
          "title": {
           "x": 0.05
          },
          "updatemenudefaults": {
           "bgcolor": "#506784",
           "borderwidth": 0
          },
          "xaxis": {
           "automargin": true,
           "gridcolor": "#283442",
           "linecolor": "#506784",
           "ticks": "",
           "title": {
            "standoff": 15
           },
           "zerolinecolor": "#283442",
           "zerolinewidth": 2
          },
          "yaxis": {
           "automargin": true,
           "gridcolor": "#283442",
           "linecolor": "#506784",
           "ticks": "",
           "title": {
            "standoff": 15
           },
           "zerolinecolor": "#283442",
           "zerolinewidth": 2
          }
         }
        },
        "title": {
         "text": "Average Time Listened per Week"
        },
        "xaxis": {
         "title": {
          "text": "Week"
         }
        },
        "yaxis": {
         "title": {
          "text": "Average Time Listened (minutes)"
         }
        }
       }
      }
     },
     "metadata": {},
     "output_type": "display_data"
    }
   ],
   "source": [
    "\n",
    "df_strm = pd.read_json('StreamingHistory.json')\n",
    "df_strm['endTime'] = pd.to_datetime(df_strm['endTime'])\n",
    "df_strm.set_index('endTime', inplace=True)\n",
    "weekly_avg_time = df_strm.resample('W').sum()['msPlayed'] / (1000 * 60)\n",
    "fig = go.Figure()\n",
    "fig.add_trace(go.Scatter(x=weekly_avg_time.index, y=weekly_avg_time.values, mode='lines+markers'))\n",
    "fig.update_layout(\n",
    "    title='Average Time Listened per Week',\n",
    "    xaxis=dict(title='Week'),\n",
    "    yaxis=dict(title='Average Time Listened (minutes)'),\n",
    "    template='plotly_dark'\n",
    ")\n",
    "fig.show()"
   ]
  },
  {
   "cell_type": "code",
   "execution_count": 5,
   "id": "2feabfbd",
   "metadata": {},
   "outputs": [
    {
     "data": {
      "application/vnd.plotly.v1+json": {
       "config": {
        "plotlyServerURL": "https://plot.ly"
       },
       "data": [
        {
         "hole": 0.3,
         "labels": [
          "Twenty One Pilots",
          "Edward Snowden",
          "CRO",
          "Cautious Clay",
          "J. Cole",
          "Jhené Aiko",
          "Labrinth",
          "Mac Miller",
          "Rex Orange County",
          "Kota the Friend",
          "Alligatoah",
          "Stormzy",
          "Marc E. Bassy",
          "Frank Ocean",
          "Jon Bellion",
          "Bazzi",
          "Miwata",
          "The Weeknd",
          "Adele",
          "Trettmann",
          "6LACK",
          "John Mayer",
          "Giant Rooks",
          "Snky Bnz",
          "Vince Staples",
          "Maeckes",
          "Benji.",
          "Die Orsons",
          "Miguel",
          "Tame Impala",
          "Jazz Emu",
          "Jelani Aryeh",
          "6host",
          "Thunder Jackson",
          "Rejjie Snow",
          "AUDREY NUNA",
          "The Neighbourhood",
          "Nina Chuba",
          "Morris the Friend",
          "Machine Gun Kelly",
          "MAJAN",
          "Olivia Dean",
          "Daniel Caesar",
          "BROCKHAMPTON",
          "Rakede",
          "KitschKrieg",
          "Powfu",
          "Kendrick Lamar",
          "Reo Cragun",
          "BRUCKNER",
          "Shakka",
          "PHFAT",
          "Kavinsky",
          "Jugglerz",
          "AJ Tracey",
          "Elton John",
          "Russ",
          "Mura Masa",
          "Shelter Boy",
          "COIN",
          "Aminé",
          "SZA",
          "Marlon Craft",
          "Alicia Keys",
          "RY X",
          "KING LX",
          "RIN",
          "Dominic Fike",
          "Zaia",
          "Rexx Life Raj",
          "Jack Harlow",
          "Smino",
          "Herizen",
          "KYLE",
          "blackbear",
          "iann dior",
          "Mulay",
          "Tyler, The Creator",
          "Masego",
          "Calvin Harris",
          "Brent Faiyaz",
          "GoldLink",
          "Love Regenerator",
          "JAY-Z",
          "SG Lewis",
          "BAYNK",
          "The Wombats",
          "Skinny Fabulous",
          "Ruel",
          "Post Malone",
          "Years & Years",
          "Souly",
          "Samm Henshaw",
          "The Knocks",
          "Kali Uchis",
          "Anderson .Paak",
          "Louis The Child",
          "Tom Odell",
          "Pink Cafe",
          "JBee",
          "Remi Wolf",
          "CAL",
          "Elderbrook",
          "Amaarae",
          "Kygo",
          "Tina Turner",
          "Surfaces",
          "Lil Nas X",
          "Yung Bae",
          "Jaymes Young",
          "Imagine Dragons",
          "Tash Sultana",
          "AJR",
          "Leyya"
         ],
         "textinfo": "none",
         "type": "pie",
         "values": [
          166.06198333333333,
          127.36926666666666,
          123.6175,
          111.48503333333333,
          93.29108333333333,
          93.16666666666667,
          89.74083333333333,
          86.40598333333334,
          79.79343333333334,
          63.149316666666664,
          59.98051666666667,
          56.97235,
          51.18365,
          46.868883333333336,
          43.18083333333333,
          37.9496,
          37.865183333333334,
          34.13771666666667,
          31.659116666666666,
          31.417183333333334,
          27.968716666666666,
          23.7925,
          23.108633333333334,
          20.243116666666666,
          16.0343,
          14.49535,
          11.947366666666667,
          11.242066666666666,
          9.688883333333333,
          9.612516666666666,
          8.319316666666667,
          8.099583333333333,
          6.327516666666667,
          6.32295,
          6.273666666666666,
          6.2477,
          6.1346,
          5.6675,
          5.228766666666667,
          5.186366666666666,
          5.1600166666666665,
          5.0807,
          4.636316666666667,
          4.632583333333334,
          4.144216666666667,
          3.852733333333333,
          3.8427166666666666,
          3.81,
          3.7816833333333335,
          3.7150333333333334,
          3.6333166666666665,
          3.5261833333333334,
          3.294,
          3.286033333333333,
          3.1756166666666665,
          3.1738666666666666,
          3.164433333333333,
          3.1637333333333335,
          3.0955833333333334,
          3.0767333333333333,
          2.98745,
          2.8992,
          2.8819166666666667,
          2.838433333333333,
          2.6685166666666666,
          2.6449333333333334,
          2.61125,
          2.505333333333333,
          2.286383333333333,
          2.2192833333333333,
          2.14015,
          2.12695,
          1.91035,
          1.3579166666666667,
          1.2615666666666667,
          0.8022833333333333,
          0.7564,
          0.72845,
          0.6794,
          0.6421333333333333,
          0.6241333333333333,
          0.53365,
          0.528,
          0.4897666666666667,
          0.48856666666666665,
          0.43533333333333335,
          0.40755,
          0.36138333333333333,
          0.35518333333333335,
          0.31953333333333334,
          0.28858333333333336,
          0.25795,
          0.24803333333333333,
          0.23598333333333332,
          0.22843333333333332,
          0.21411666666666668,
          0.20141666666666666,
          0.2001,
          0.15083333333333335,
          0.14548333333333333,
          0.14501666666666665,
          0.14205,
          0.098,
          0.09433333333333334,
          0.09273333333333333,
          0.0891,
          0.08496666666666666,
          0.05805,
          0.038566666666666666,
          0.027366666666666668,
          0.02495,
          0.017683333333333332,
          0.013066666666666667,
          0.006883333333333333
         ]
        }
       ],
       "layout": {
        "template": {
         "data": {
          "bar": [
           {
            "error_x": {
             "color": "#2a3f5f"
            },
            "error_y": {
             "color": "#2a3f5f"
            },
            "marker": {
             "line": {
              "color": "#E5ECF6",
              "width": 0.5
             },
             "pattern": {
              "fillmode": "overlay",
              "size": 10,
              "solidity": 0.2
             }
            },
            "type": "bar"
           }
          ],
          "barpolar": [
           {
            "marker": {
             "line": {
              "color": "#E5ECF6",
              "width": 0.5
             },
             "pattern": {
              "fillmode": "overlay",
              "size": 10,
              "solidity": 0.2
             }
            },
            "type": "barpolar"
           }
          ],
          "carpet": [
           {
            "aaxis": {
             "endlinecolor": "#2a3f5f",
             "gridcolor": "white",
             "linecolor": "white",
             "minorgridcolor": "white",
             "startlinecolor": "#2a3f5f"
            },
            "baxis": {
             "endlinecolor": "#2a3f5f",
             "gridcolor": "white",
             "linecolor": "white",
             "minorgridcolor": "white",
             "startlinecolor": "#2a3f5f"
            },
            "type": "carpet"
           }
          ],
          "choropleth": [
           {
            "colorbar": {
             "outlinewidth": 0,
             "ticks": ""
            },
            "type": "choropleth"
           }
          ],
          "contour": [
           {
            "colorbar": {
             "outlinewidth": 0,
             "ticks": ""
            },
            "colorscale": [
             [
              0,
              "#0d0887"
             ],
             [
              0.1111111111111111,
              "#46039f"
             ],
             [
              0.2222222222222222,
              "#7201a8"
             ],
             [
              0.3333333333333333,
              "#9c179e"
             ],
             [
              0.4444444444444444,
              "#bd3786"
             ],
             [
              0.5555555555555556,
              "#d8576b"
             ],
             [
              0.6666666666666666,
              "#ed7953"
             ],
             [
              0.7777777777777778,
              "#fb9f3a"
             ],
             [
              0.8888888888888888,
              "#fdca26"
             ],
             [
              1,
              "#f0f921"
             ]
            ],
            "type": "contour"
           }
          ],
          "contourcarpet": [
           {
            "colorbar": {
             "outlinewidth": 0,
             "ticks": ""
            },
            "type": "contourcarpet"
           }
          ],
          "heatmap": [
           {
            "colorbar": {
             "outlinewidth": 0,
             "ticks": ""
            },
            "colorscale": [
             [
              0,
              "#0d0887"
             ],
             [
              0.1111111111111111,
              "#46039f"
             ],
             [
              0.2222222222222222,
              "#7201a8"
             ],
             [
              0.3333333333333333,
              "#9c179e"
             ],
             [
              0.4444444444444444,
              "#bd3786"
             ],
             [
              0.5555555555555556,
              "#d8576b"
             ],
             [
              0.6666666666666666,
              "#ed7953"
             ],
             [
              0.7777777777777778,
              "#fb9f3a"
             ],
             [
              0.8888888888888888,
              "#fdca26"
             ],
             [
              1,
              "#f0f921"
             ]
            ],
            "type": "heatmap"
           }
          ],
          "heatmapgl": [
           {
            "colorbar": {
             "outlinewidth": 0,
             "ticks": ""
            },
            "colorscale": [
             [
              0,
              "#0d0887"
             ],
             [
              0.1111111111111111,
              "#46039f"
             ],
             [
              0.2222222222222222,
              "#7201a8"
             ],
             [
              0.3333333333333333,
              "#9c179e"
             ],
             [
              0.4444444444444444,
              "#bd3786"
             ],
             [
              0.5555555555555556,
              "#d8576b"
             ],
             [
              0.6666666666666666,
              "#ed7953"
             ],
             [
              0.7777777777777778,
              "#fb9f3a"
             ],
             [
              0.8888888888888888,
              "#fdca26"
             ],
             [
              1,
              "#f0f921"
             ]
            ],
            "type": "heatmapgl"
           }
          ],
          "histogram": [
           {
            "marker": {
             "pattern": {
              "fillmode": "overlay",
              "size": 10,
              "solidity": 0.2
             }
            },
            "type": "histogram"
           }
          ],
          "histogram2d": [
           {
            "colorbar": {
             "outlinewidth": 0,
             "ticks": ""
            },
            "colorscale": [
             [
              0,
              "#0d0887"
             ],
             [
              0.1111111111111111,
              "#46039f"
             ],
             [
              0.2222222222222222,
              "#7201a8"
             ],
             [
              0.3333333333333333,
              "#9c179e"
             ],
             [
              0.4444444444444444,
              "#bd3786"
             ],
             [
              0.5555555555555556,
              "#d8576b"
             ],
             [
              0.6666666666666666,
              "#ed7953"
             ],
             [
              0.7777777777777778,
              "#fb9f3a"
             ],
             [
              0.8888888888888888,
              "#fdca26"
             ],
             [
              1,
              "#f0f921"
             ]
            ],
            "type": "histogram2d"
           }
          ],
          "histogram2dcontour": [
           {
            "colorbar": {
             "outlinewidth": 0,
             "ticks": ""
            },
            "colorscale": [
             [
              0,
              "#0d0887"
             ],
             [
              0.1111111111111111,
              "#46039f"
             ],
             [
              0.2222222222222222,
              "#7201a8"
             ],
             [
              0.3333333333333333,
              "#9c179e"
             ],
             [
              0.4444444444444444,
              "#bd3786"
             ],
             [
              0.5555555555555556,
              "#d8576b"
             ],
             [
              0.6666666666666666,
              "#ed7953"
             ],
             [
              0.7777777777777778,
              "#fb9f3a"
             ],
             [
              0.8888888888888888,
              "#fdca26"
             ],
             [
              1,
              "#f0f921"
             ]
            ],
            "type": "histogram2dcontour"
           }
          ],
          "mesh3d": [
           {
            "colorbar": {
             "outlinewidth": 0,
             "ticks": ""
            },
            "type": "mesh3d"
           }
          ],
          "parcoords": [
           {
            "line": {
             "colorbar": {
              "outlinewidth": 0,
              "ticks": ""
             }
            },
            "type": "parcoords"
           }
          ],
          "pie": [
           {
            "automargin": true,
            "type": "pie"
           }
          ],
          "scatter": [
           {
            "fillpattern": {
             "fillmode": "overlay",
             "size": 10,
             "solidity": 0.2
            },
            "type": "scatter"
           }
          ],
          "scatter3d": [
           {
            "line": {
             "colorbar": {
              "outlinewidth": 0,
              "ticks": ""
             }
            },
            "marker": {
             "colorbar": {
              "outlinewidth": 0,
              "ticks": ""
             }
            },
            "type": "scatter3d"
           }
          ],
          "scattercarpet": [
           {
            "marker": {
             "colorbar": {
              "outlinewidth": 0,
              "ticks": ""
             }
            },
            "type": "scattercarpet"
           }
          ],
          "scattergeo": [
           {
            "marker": {
             "colorbar": {
              "outlinewidth": 0,
              "ticks": ""
             }
            },
            "type": "scattergeo"
           }
          ],
          "scattergl": [
           {
            "marker": {
             "colorbar": {
              "outlinewidth": 0,
              "ticks": ""
             }
            },
            "type": "scattergl"
           }
          ],
          "scattermapbox": [
           {
            "marker": {
             "colorbar": {
              "outlinewidth": 0,
              "ticks": ""
             }
            },
            "type": "scattermapbox"
           }
          ],
          "scatterpolar": [
           {
            "marker": {
             "colorbar": {
              "outlinewidth": 0,
              "ticks": ""
             }
            },
            "type": "scatterpolar"
           }
          ],
          "scatterpolargl": [
           {
            "marker": {
             "colorbar": {
              "outlinewidth": 0,
              "ticks": ""
             }
            },
            "type": "scatterpolargl"
           }
          ],
          "scatterternary": [
           {
            "marker": {
             "colorbar": {
              "outlinewidth": 0,
              "ticks": ""
             }
            },
            "type": "scatterternary"
           }
          ],
          "surface": [
           {
            "colorbar": {
             "outlinewidth": 0,
             "ticks": ""
            },
            "colorscale": [
             [
              0,
              "#0d0887"
             ],
             [
              0.1111111111111111,
              "#46039f"
             ],
             [
              0.2222222222222222,
              "#7201a8"
             ],
             [
              0.3333333333333333,
              "#9c179e"
             ],
             [
              0.4444444444444444,
              "#bd3786"
             ],
             [
              0.5555555555555556,
              "#d8576b"
             ],
             [
              0.6666666666666666,
              "#ed7953"
             ],
             [
              0.7777777777777778,
              "#fb9f3a"
             ],
             [
              0.8888888888888888,
              "#fdca26"
             ],
             [
              1,
              "#f0f921"
             ]
            ],
            "type": "surface"
           }
          ],
          "table": [
           {
            "cells": {
             "fill": {
              "color": "#EBF0F8"
             },
             "line": {
              "color": "white"
             }
            },
            "header": {
             "fill": {
              "color": "#C8D4E3"
             },
             "line": {
              "color": "white"
             }
            },
            "type": "table"
           }
          ]
         },
         "layout": {
          "annotationdefaults": {
           "arrowcolor": "#2a3f5f",
           "arrowhead": 0,
           "arrowwidth": 1
          },
          "autotypenumbers": "strict",
          "coloraxis": {
           "colorbar": {
            "outlinewidth": 0,
            "ticks": ""
           }
          },
          "colorscale": {
           "diverging": [
            [
             0,
             "#8e0152"
            ],
            [
             0.1,
             "#c51b7d"
            ],
            [
             0.2,
             "#de77ae"
            ],
            [
             0.3,
             "#f1b6da"
            ],
            [
             0.4,
             "#fde0ef"
            ],
            [
             0.5,
             "#f7f7f7"
            ],
            [
             0.6,
             "#e6f5d0"
            ],
            [
             0.7,
             "#b8e186"
            ],
            [
             0.8,
             "#7fbc41"
            ],
            [
             0.9,
             "#4d9221"
            ],
            [
             1,
             "#276419"
            ]
           ],
           "sequential": [
            [
             0,
             "#0d0887"
            ],
            [
             0.1111111111111111,
             "#46039f"
            ],
            [
             0.2222222222222222,
             "#7201a8"
            ],
            [
             0.3333333333333333,
             "#9c179e"
            ],
            [
             0.4444444444444444,
             "#bd3786"
            ],
            [
             0.5555555555555556,
             "#d8576b"
            ],
            [
             0.6666666666666666,
             "#ed7953"
            ],
            [
             0.7777777777777778,
             "#fb9f3a"
            ],
            [
             0.8888888888888888,
             "#fdca26"
            ],
            [
             1,
             "#f0f921"
            ]
           ],
           "sequentialminus": [
            [
             0,
             "#0d0887"
            ],
            [
             0.1111111111111111,
             "#46039f"
            ],
            [
             0.2222222222222222,
             "#7201a8"
            ],
            [
             0.3333333333333333,
             "#9c179e"
            ],
            [
             0.4444444444444444,
             "#bd3786"
            ],
            [
             0.5555555555555556,
             "#d8576b"
            ],
            [
             0.6666666666666666,
             "#ed7953"
            ],
            [
             0.7777777777777778,
             "#fb9f3a"
            ],
            [
             0.8888888888888888,
             "#fdca26"
            ],
            [
             1,
             "#f0f921"
            ]
           ]
          },
          "colorway": [
           "#636efa",
           "#EF553B",
           "#00cc96",
           "#ab63fa",
           "#FFA15A",
           "#19d3f3",
           "#FF6692",
           "#B6E880",
           "#FF97FF",
           "#FECB52"
          ],
          "font": {
           "color": "#2a3f5f"
          },
          "geo": {
           "bgcolor": "white",
           "lakecolor": "white",
           "landcolor": "#E5ECF6",
           "showlakes": true,
           "showland": true,
           "subunitcolor": "white"
          },
          "hoverlabel": {
           "align": "left"
          },
          "hovermode": "closest",
          "mapbox": {
           "style": "light"
          },
          "paper_bgcolor": "white",
          "plot_bgcolor": "#E5ECF6",
          "polar": {
           "angularaxis": {
            "gridcolor": "white",
            "linecolor": "white",
            "ticks": ""
           },
           "bgcolor": "#E5ECF6",
           "radialaxis": {
            "gridcolor": "white",
            "linecolor": "white",
            "ticks": ""
           }
          },
          "scene": {
           "xaxis": {
            "backgroundcolor": "#E5ECF6",
            "gridcolor": "white",
            "gridwidth": 2,
            "linecolor": "white",
            "showbackground": true,
            "ticks": "",
            "zerolinecolor": "white"
           },
           "yaxis": {
            "backgroundcolor": "#E5ECF6",
            "gridcolor": "white",
            "gridwidth": 2,
            "linecolor": "white",
            "showbackground": true,
            "ticks": "",
            "zerolinecolor": "white"
           },
           "zaxis": {
            "backgroundcolor": "#E5ECF6",
            "gridcolor": "white",
            "gridwidth": 2,
            "linecolor": "white",
            "showbackground": true,
            "ticks": "",
            "zerolinecolor": "white"
           }
          },
          "shapedefaults": {
           "line": {
            "color": "#2a3f5f"
           }
          },
          "ternary": {
           "aaxis": {
            "gridcolor": "white",
            "linecolor": "white",
            "ticks": ""
           },
           "baxis": {
            "gridcolor": "white",
            "linecolor": "white",
            "ticks": ""
           },
           "bgcolor": "#E5ECF6",
           "caxis": {
            "gridcolor": "white",
            "linecolor": "white",
            "ticks": ""
           }
          },
          "title": {
           "x": 0.05
          },
          "xaxis": {
           "automargin": true,
           "gridcolor": "white",
           "linecolor": "white",
           "ticks": "",
           "title": {
            "standoff": 15
           },
           "zerolinecolor": "white",
           "zerolinewidth": 2
          },
          "yaxis": {
           "automargin": true,
           "gridcolor": "white",
           "linecolor": "white",
           "ticks": "",
           "title": {
            "standoff": 15
           },
           "zerolinecolor": "white",
           "zerolinewidth": 2
          }
         }
        },
        "title": {
         "text": "Listening Time Distribution by Artist"
        }
       }
      }
     },
     "metadata": {},
     "output_type": "display_data"
    },
    {
     "data": {
      "application/vnd.plotly.v1+json": {
       "config": {
        "plotlyServerURL": "https://plot.ly"
       },
       "data": [
        {
         "type": "bar",
         "x": [
          "Chlorine",
          "Morph",
          "IF YOU WANT IT",
          "Friends (feat. ScHoolboy Q)",
          "My Blood",
          "Nico and the Niners",
          "Rachael's Little Brother",
          "Karma & Friends",
          "Bandito",
          "Crown",
          "Nikes",
          "7AM",
          "SHOOT ME DOWN",
          "ONE IN A MILLION",
          "Breathe Deeper - Lil Yachty Remix",
          "Cut My Lip",
          "Tryna Smoke",
          "The Hype",
          "WACH",
          "None Of Your Concern (feat. Big Sean)",
          "Roots",
          "Surrender (feat. Dr. Chill)",
          "Solo",
          "Ivy",
          "HÖR NICHT AUF (feat. Teesy)",
          "Marigold",
          "Mah's Joint (feat. Quincy Jones)",
          "Neon Gravestones",
          "Jumpsuit",
          "Verloren",
          "Premeditated Murder",
          "Wildfire",
          "In the Morning",
          "Choker",
          "P*$$Y Fairy (OTW)",
          "OPEN A WINDOW (feat. Tyler, The Creator)",
          "New Light",
          "The Outside",
          "Hart Vermissen",
          "B.S. (feat. H.E.R.)",
          "Rainfall (feat. Tiana Major9)",
          "The Last Stretch",
          "Triggered (freestyle)",
          "Born Tired",
          "Joshua Tree",
          "Cold War",
          "Strange Love",
          "Pet Cheetah",
          "THE SHADE",
          "Blood Type",
          "Dunstkreis",
          "Borderline",
          "Guilty Party",
          "ACID TRIP",
          "Happiness Over Everything (H.O.E.) (feat. Future & Miguel)",
          "I Drink Wine",
          "Top Again (feat. Saba)",
          "Für immer",
          "Speak",
          "Pink + White",
          "DIAMONDS",
          "1 INSTAGRAMM",
          "SMOOTH",
          "Whoa",
          "SUPERWOMAN",
          "Shook",
          "One Way St. (feat. Ab-Soul)",
          "For Troubled Boys",
          "Cartier",
          "Good News",
          "Let's Begin (feat. Roc Marciano, RZA, B.Keyz & Travis Mendes)",
          "Do Better",
          "Beautiful",
          "WORTH IT",
          "Du weißt",
          "Adult Swim (feat. Tuamie)",
          "Come Through and Chill (feat. J. Cole & Salaam Remi)",
          "GOOD VIBES",
          "NICE!",
          "Orange Room",
          "Stay in Touch",
          "Sundown",
          "Handsome",
          "Sweet Riot",
          "Unter Freunden",
          "WHO CARES?",
          "Fantasy",
          "Levitate",
          "ALLES DOPE",
          "Lane Boy / Redecorate / Chlorine - Livestream Version",
          "Fuck Rock n Roll",
          "Breakdown",
          "Nights",
          "Dollar And A Dream III",
          "Twenty-Nine",
          "Bowie",
          "Leave the City",
          "Lovelocks",
          "Misinterpretations",
          "Get You (feat. Kali Uchis)",
          "BLEACH",
          "Stolen Moments",
          "Rise and Shine",
          "Earthquake (feat. Tinie Tempah)",
          "Nicht adoptiert",
          "Beneath Your Beautiful (feat. Emeli Sandé)",
          "Dear Fear",
          "Bump Stock",
          "Atmosphere",
          "Box of Bones",
          "JT",
          "Nachbeben",
          "Knock on Wood - Freestyle",
          "Stolpersteine",
          "My Little Love",
          "Last Time",
          "Lost Ones",
          "Sky Walker (feat. Travis Scott)",
          "10k Hours (feat. Nas)",
          "Complicated",
          "Everybody",
          "Swimmingpoolaugen",
          "Cry Your Heart Out",
          "Why You No Love Me",
          "Echo - Live At The Jazz Cafe",
          "Woods",
          "AMAZING",
          "Bagels",
          "Wild Blue",
          "The Broken Man",
          "High Risk Travel",
          "endless summer",
          "Party Monster",
          "Disconnect",
          "Nimmst du mich mit",
          "Therapy",
          "Saturday",
          "Very Soon You'll See",
          "Kapitel 195 - Permanent Record - Meine Geschichte",
          "East Atlanta Love Letter (feat. Future)",
          "Spinner",
          "Hollywood",
          "Meine Gang (Bang Bang)",
          "So wie du bist",
          "Pretty Little Fears (feat. J. Cole)",
          "Sweater Weather",
          "The Birth of Worlds",
          "Teamgeist",
          "Climb On Board",
          "Vielleicht",
          "MDMDF",
          "Mr. Nice Watch",
          "Sideline Story",
          "Shouldn't Matter but It Does",
          "Erinnerung",
          "Work Out",
          "Agreeable",
          "In The Morning",
          "What Do You Do (feat. Sir Michael Rocks)",
          "MAKING TIME",
          "snowflake (feat. Jaden & Sarcastic Sounds)",
          "I Really Mean It - Freestyle",
          "Starboy",
          "Wedding",
          "Lonely Road",
          "Call Out My Name",
          "WHEN SPARKS FLY",
          "Cautionary Tales",
          "No Perfect Time",
          "Nothing in This World",
          "In Too Deep",
          "trip",
          "Euphoria Funfair (feat. Gustave Rudman)",
          "No Chances",
          "Can't Get Enough",
          "Oh My God",
          "Easy On Me",
          "Mulberry Street",
          "Funeral",
          "so schön",
          "For Colored Boys",
          "Angel Dust",
          "Weit weg",
          "Never CRO Up",
          "Future Love",
          "Try Me",
          "I Can See",
          "False Alarm",
          "Kapitel 194 - Permanent Record - Meine Geschichte",
          "Wasted Times",
          "Feinstaub",
          "Reminder",
          "Watershed",
          "When Will I See You Again",
          "EAST POINT PRAYER",
          "Closer",
          "Define Me - interlude",
          "Bad Chick",
          "Own It (feat. Ed Sheeran & Burna Boy)",
          "It Just Doesn’t Matter",
          "Ich hänge",
          "Über mich hinaus",
          "LOVE. FEAT. ZACARI.",
          "Never Take It",
          "God's Gift",
          "5 Minuten (feat. Cro, AnnenMayKantereit & Trettmann)",
          "Polo Jeans (feat. Earl Sweatshirt)",
          "Whatever You Like",
          "Malibu",
          "Never Told",
          "I'm Tired - Long Version",
          "Skyline To",
          "Dreaming",
          "Sorry",
          "Zombie",
          "Can I Get It",
          "Kapitel 193 - Permanent Record - Meine Geschichte",
          "Blue World",
          "Pik",
          "Bitter",
          "Couples Retreat",
          "BRB",
          "Lights Please",
          "Feel Different",
          "Wiley Flow",
          "Rennen",
          "Conversations with my Wife",
          "Switch",
          "Cop Love",
          "Tell Me Lies",
          "Bye Bye aka Delicious",
          "Colors and Shapes",
          "Sanctuary",
          "Free Like Me",
          "Pros & Cons",
          "True Colors",
          "Prodigal Son",
          "Sedona",
          "1234",
          "Outside",
          "Melodie",
          "Zeit steht",
          "Scapegoat",
          "Hœrgüpjelly Kisses",
          "Click Track",
          "Love Is Complicated (The Angels Sing)",
          "Kapitel 192 - Permanent Record - Meine Geschichte",
          "Loaded Gun",
          "Kapitel 196 - Permanent Record - Meine Geschichte",
          "Diablo",
          "Renegade",
          "Haus am See",
          "Kapitel 188 - Permanent Record - Meine Geschichte",
          "Retro Shirt",
          "Kapitel 183 - Permanent Record - Meine Geschichte",
          "Kapitel 177 - Permanent Record - Meine Geschichte",
          "Weg heraus",
          "Traum",
          "Smithereens",
          "Kapitel 163 - Permanent Record - Meine Geschichte",
          "Don't Forget to Breathe (feat. Yebba) [Interlude]",
          "Kapitel 176 - Permanent Record - Meine Geschichte",
          "Legend",
          "Wir waren hier II",
          "Kapitel 190 - Permanent Record - Meine Geschichte",
          "Black Satin",
          "Kapitel 160 - Permanent Record - Meine Geschichte",
          "Kapitel 171 - Permanent Record - Meine Geschichte",
          "Kapitel 161 - Permanent Record - Meine Geschichte",
          "Kapitel 167 - Permanent Record - Meine Geschichte",
          "Ladbroke Grove",
          "Cold Heart - PNAU Remix",
          "Alkaline",
          "Nobody's Perfect",
          "Kapitel 172 - Permanent Record - Meine Geschichte",
          "NIGHTTIME (Interlude)",
          "Elsewhere",
          "Kapitel 173 - Permanent Record - Meine Geschichte",
          "The Internet",
          "Kapitel 181 - Permanent Record - Meine Geschichte",
          "Rainfalls",
          "Kapitel 170 - Permanent Record - Meine Geschichte",
          "Nebenjob",
          "Kapitel 158 - Permanent Record - Meine Geschichte",
          "Kapitel 165 - Permanent Record - Meine Geschichte",
          "Kapitel 168 - Permanent Record - Meine Geschichte",
          "I’m Tired (with Zendaya) - Bonus Track",
          "Lessons",
          "Kapitel 166 - Permanent Record - Meine Geschichte",
          "Kapitel 185 - Permanent Record - Meine Geschichte",
          "Kapitel 159 - Permanent Record - Meine Geschichte",
          "Washing Off The Blood",
          "Last Train Home",
          "Shy Away",
          "Kapitel 182 - Permanent Record - Meine Geschichte",
          "Kapitel 189 - Permanent Record - Meine Geschichte",
          "Kapitel 164 - Permanent Record - Meine Geschichte",
          "Eukalyptus",
          "Kapitel 191 - Permanent Record - Meine Geschichte",
          "Kapitel 184 - Permanent Record - Meine Geschichte",
          "AYE! (FREE THE HOMIES)",
          "Calm Me Down",
          "Bounce Man",
          "Nie mehr weg",
          "Kapitel 175 - Permanent Record - Meine Geschichte",
          "KEEP IT UP",
          "Dream House",
          "Cole World",
          "Kapitel 180 - Permanent Record - Meine Geschichte",
          "Kapitel 187 - Permanent Record - Meine Geschichte",
          "Kapitel 174 - Permanent Record - Meine Geschichte",
          "Kapitel 186 - Permanent Record - Meine Geschichte",
          "Kapitel 162 - Permanent Record - Meine Geschichte",
          "Oh Baby",
          "dich",
          "Heat Up",
          "Kapitel 179 - Permanent Record - Meine Geschichte",
          "Trouble",
          "Phantasiewelt",
          "Kapitel 169 - Permanent Record - Meine Geschichte",
          "Strangers By Nature",
          "Hey Girl",
          "Kapitel 178 - Permanent Record - Meine Geschichte",
          "Let the Sun Shine",
          "Stupid Deep",
          "Hätten wir sein können",
          "Schneeweiß",
          "Let Her Go",
          "3:15",
          "Formidable",
          "Ave Maria",
          "Chicago Diner",
          "When I R.I.P.",
          "Waiting Room",
          "Irgendwann",
          "Stoik & Grandezza",
          "I Hate U",
          "Alles gleich",
          "Can't Call It",
          "2006",
          "Star",
          "WTF Are We Talking For",
          "Shake",
          "Circles",
          "I Can Feel It - Intro",
          "Crash for a Couple",
          "Happy Birthday",
          "Mourning Doves",
          "Neben mir",
          "Juliet & Caesar",
          "Blu",
          "ICE (We Should Do Drugs)",
          "Wir bleiben wach",
          "City of Gods (Part II)",
          "San Francisco",
          "Church",
          "Wie soll ich sein",
          "All Night Parking (with Erroll Garner) Interlude",
          "Let You Go",
          "Breathe",
          "Universe",
          "Kapitel 197 - Permanent Record - Meine Geschichte",
          "LOVE",
          "Athen (feat. Schmyt)",
          "Why",
          "Dracula (Nate Sees Cassie)",
          "Dreams",
          "See You Assholes Later",
          "Elliot's Song (with Dominic Fike, Zendaya & Labrinth)",
          "Unfair",
          "Made For This",
          "Vultures",
          "No Kidding",
          "Lightning & Thunder (feat. John Legend)",
          "Dying in the Subtlety",
          "EASY X FELIX JAEHN REMIX",
          "Jetzt",
          "Honest",
          "Rapture in Blue",
          "The Hype - Berlin",
          "Self Control",
          "Erase",
          "Skeletons (Lexi Needed a Break)",
          "At Least I'm Loved",
          "I Think I'm OKAY (with YUNGBLUD & Travis Barker)",
          "Mount Everest - Bonus Track",
          "Was fehlt dir",
          "my ex's best friend (with blackbear)",
          "Cheesin'",
          "The Simple Things",
          "Perkeo",
          "BLUE",
          "Rue's I'm Tired (with Zendaya)",
          "Good to Be Home",
          "Shame",
          "2gether",
          "Handheld GPS",
          "Charmander",
          "Yeh I Fuckin' Did It - From \"Euphoria\" An HBO Original Series",
          "Mine",
          "Artificial Irrelevance",
          "THRU THE NIGHT (feat. Bryson Tiller)",
          "Daddy Issues",
          "Z4L (with Bari & Jay2)",
          "Redirect",
          "Soarin",
          "Fun At The Alley",
          "Shook Ones - Freestyle",
          "Dying Breed",
          "Kills Me",
          "Hellboy",
          "Silos",
          "Stargirl Interlude",
          "Who We Are",
          "I Was Never There",
          "Inward",
          "Summer 2020 - interlude",
          "Yo Love - From \"Queen & Slim: The Soundtrack\"",
          "Wenn du mich brauchst",
          "For the Stars",
          "Sky Boy",
          "SLIDE",
          "Pray For You",
          "Interlude",
          "Every Second Counts",
          "Nice",
          "Audacity (feat. Headie One)",
          "BOY",
          "Superheroes",
          "Sowas von egal",
          "Intro",
          "Don't Wanna Fall In Love",
          "Kat's Denial",
          "idfc",
          "Nimm's leicht",
          "Lotus - intro",
          "Good Guy",
          "Cherry Beach",
          "9 5 . s o u t h",
          "In My Room",
          "Microwave",
          "Fez's Interlude (with Angus Cloud)",
          "Shot in the Dark",
          "Live Like We’re Dancing (with Georgia)",
          "55",
          "Be My Own Boyfriend",
          "DJ QUIK",
          "She Certainly Looks the Part",
          "NAMELESS",
          "let you",
          "Riri",
          "The Angels",
          "Incomplete",
          "alice",
          "Putting Everything Away",
          "Slideshow",
          "luft (feat. Friedberg)",
          "Trust",
          "Bronze",
          "911 / Mr. Lonely (feat. Frank Ocean & Steve Lacy)",
          "I Don't Know If I'm a Good Person",
          "Crew (feat. Brent Faiyaz & Shy Glizzy)",
          "lmf2 (feat. Cro)",
          "What I Know Is All Quicksand - rookery live tapes",
          "Feelings",
          "Feed The Fire (feat. Lucky Daye)",
          "Planning Date",
          "Be Yourself",
          "Rockin’",
          "Full Bloom",
          "Why Is Your Clay So Cautious?",
          "Rockstar / Intro",
          "Monoton",
          "Esther",
          "Empire State Of Mind",
          "Outside (feat. Ellie Goulding)",
          "Greek Tragedy - Oliver Nelson TikTok Remix",
          "Passport",
          "Famalay",
          "Sidekicks Are Smarter",
          "say it over (feat. Cautious Clay)",
          "Still Don't Know My Name",
          "MAGIC",
          "EASY X LAMBERT REWORK",
          "Unterwegs",
          "Changed",
          "Entkommen",
          "Lonely (feat. Sananda Maitreya)",
          "Saint-Tropez",
          "Vossi Bop",
          "Kapitel III",
          "9PM Frankfurter Tor",
          "summerlove",
          "XXX. FEAT. U2.",
          "Kapitel I",
          "Starstruck - Vegyn Remix",
          "Church (feat. EARTHGANG)",
          "Yamz",
          "Lucky Me (feat. Great Good Fine Ok)",
          "telepatía",
          "Emilia",
          "King James",
          "So What (feat. A R I Z O N A)",
          "numb (feat. Zaia)",
          "papercuts",
          "BLESSED (feat. Capital Bra)",
          "Feuer & Öl",
          "El Weirdo (I Relapsed)",
          "Somebody",
          "Mit dir schlafen",
          "Higher (feat. Lukas Graham)",
          "hoch",
          "Grille",
          "4am",
          "By Your Side (feat. Tom Grennan)",
          "Photo ID (with Dominic Fike)",
          "In the Water - MASS AVE Remix",
          "SYGL (feat. Shindy)",
          "Hinterhaus",
          "Treatment",
          "Gone",
          "Hin und Her",
          "THE BEACH",
          "Kapitel 198 - Permanent Record - Meine Geschichte",
          "Inner Light",
          "All of a Sudden",
          "SAD GIRLZ LUV MONEY Remix (feat. Kali Uchis and Moliy)",
          "Higher Love",
          "Come For Me (Unlocked) (feat. Khalid & Lucky Daye)",
          "The Best",
          "Where This Flower Blooms (feat. Frank Ocean)",
          "Sunday Best",
          "Rollercoaster",
          "Go For Broke (feat. James Arthur)",
          "Zu sensibel",
          "love race (feat. Kellin Quinn)",
          "Sidewalks",
          "Myself",
          "forget me too (feat. Halsey)",
          "We Can Come Together",
          "世の終わり",
          "bloody valentine",
          "Mystery Lady",
          "Leben lassen",
          "AM I DREAMING (feat. Miley Cyrus)",
          "Evergreen",
          "Holy Grail",
          "Nur zu Besuch",
          "Wie es die Maschinen tun",
          "Sog",
          "Family Vacation",
          "Kalt",
          "Nate Growing Up",
          "Für Elise",
          "See You Again (feat. Kali Uchis)",
          "Secrets",
          "Starstruck",
          "Kiss the Sky",
          "L.O.V.E. (feat. EARTHGANG, Jon Batiste & Sherwyn)",
          "Express Yourself",
          "Am Pool",
          "By Your Side (feat. Tom Grennan) - Monki Remix",
          "Sunflower - Spider-Man: Into the Spider-Verse",
          "One Kiss (with Dua Lipa)",
          "letzter song",
          "quarandream",
          "Infinity",
          "Truth or Dare",
          "Power",
          "Thunder",
          "Grapefruit Diet",
          "This Is Life",
          "Greed - Thomas Bonney Remix",
          "Big Michael",
          "Elefanten",
          "The Good Part",
          "Birdie",
          "Kapitel 1 - Permanent Record - Meine Geschichte",
          "Good Day",
          "I've Been Down",
          "No Ordinary"
         ],
         "y": [
          16.22225,
          12.940533333333333,
          11.929483333333334,
          11.849083333333333,
          11.455433333333334,
          11.268066666666666,
          11.26,
          11.0204,
          11.013633333333333,
          10.67315,
          10.469166666666666,
          9.96,
          9.748866666666666,
          9.74465,
          9.612516666666666,
          9.417833333333334,
          8.9951,
          8.948466666666667,
          8.69575,
          8.6462,
          8.598616666666667,
          8.585766666666666,
          8.579333333333333,
          8.306366666666667,
          8.234183333333334,
          8.099583333333333,
          8.0265,
          8.0046,
          7.9478,
          7.942183333333333,
          7.83585,
          7.645616666666666,
          7.487516666666667,
          7.432416666666667,
          7.368,
          7.3592,
          7.253783333333334,
          7.223633333333333,
          7.124,
          7.095533333333333,
          7.076066666666667,
          7.052316666666667,
          6.997766666666666,
          6.78625,
          6.754716666666667,
          6.753233333333333,
          6.665066666666666,
          6.61125,
          6.521966666666667,
          6.5049,
          6.3991,
          6.327516666666667,
          6.32295,
          6.273666666666666,
          6.272,
          6.266416666666666,
          6.2477,
          6.2331,
          6.174666666666667,
          6.150533333333334,
          6.148483333333333,
          6.086766666666667,
          6.045,
          6.0026,
          5.823616666666667,
          5.815466666666667,
          5.8111,
          5.792766666666667,
          5.749866666666667,
          5.700666666666667,
          5.67535,
          5.604866666666667,
          5.551533333333333,
          5.4911,
          5.4588833333333335,
          5.393466666666667,
          5.366666666666666,
          5.3,
          5.25775,
          5.228766666666667,
          5.13875,
          5.101766666666666,
          5.0911,
          5.0484333333333336,
          5.03405,
          4.982666666666667,
          4.940966666666666,
          4.892083333333333,
          4.821066666666667,
          4.803333333333334,
          4.7740833333333335,
          4.751416666666667,
          4.7171666666666665,
          4.7166,
          4.705316666666667,
          4.689433333333334,
          4.664366666666667,
          4.660233333333333,
          4.638816666666667,
          4.636316666666667,
          4.632583333333334,
          4.587933333333333,
          4.580233333333333,
          4.576666666666667,
          4.567783333333334,
          4.530216666666667,
          4.519633333333333,
          4.519566666666667,
          4.5036,
          4.497166666666667,
          4.474433333333334,
          4.460533333333333,
          4.4542166666666665,
          4.427333333333333,
          4.424,
          4.398216666666666,
          4.393166666666667,
          4.322216666666667,
          4.299766666666667,
          4.299633333333333,
          4.2751,
          4.255766666666666,
          4.253866666666666,
          4.2495666666666665,
          4.24955,
          4.239133333333333,
          4.2203333333333335,
          4.20475,
          4.2037,
          4.19615,
          4.175816666666667,
          4.174783333333333,
          4.15355,
          4.144583333333333,
          4.144216666666667,
          4.141333333333334,
          4.137066666666667,
          4.13195,
          4.111516666666667,
          4.101466666666667,
          4.0554,
          4.0373,
          4.021633333333333,
          4.0153,
          4.005683333333334,
          3.9948333333333332,
          3.983633333333333,
          3.9822166666666665,
          3.9762166666666667,
          3.968566666666667,
          3.966,
          3.965116666666667,
          3.9614333333333334,
          3.9410333333333334,
          3.9220333333333333,
          3.9208166666666666,
          3.909116666666667,
          3.9059833333333334,
          3.8718,
          3.8466666666666667,
          3.8427166666666666,
          3.841683333333333,
          3.840883333333333,
          3.82775,
          3.8087833333333334,
          3.806216666666667,
          3.7978833333333335,
          3.786766666666667,
          3.78615,
          3.7833,
          3.7816833333333335,
          3.773433333333333,
          3.7718333333333334,
          3.7718166666666666,
          3.76275,
          3.7493,
          3.7403,
          3.7378833333333334,
          3.7300333333333335,
          3.73,
          3.7186,
          3.7087666666666665,
          3.6991,
          3.6934666666666667,
          3.6905666666666668,
          3.6851,
          3.6808833333333335,
          3.6717666666666666,
          3.6715666666666666,
          3.67155,
          3.6606666666666667,
          3.648,
          3.6422166666666667,
          3.6333166666666665,
          3.630916666666667,
          3.6290833333333334,
          3.6231,
          3.6213,
          3.6117666666666666,
          3.6088833333333334,
          3.60475,
          3.5892666666666666,
          3.5566666666666666,
          3.5446833333333334,
          3.5420666666666665,
          3.5307333333333335,
          3.5269333333333335,
          3.5261833333333334,
          3.5258666666666665,
          3.5241666666666664,
          3.51895,
          3.5152833333333335,
          3.5044333333333335,
          3.50295,
          3.4983333333333335,
          3.4957666666666665,
          3.49285,
          3.490666666666667,
          3.4884333333333335,
          3.48795,
          3.478283333333333,
          3.47715,
          3.4647833333333335,
          3.46305,
          3.4560833333333334,
          3.4518,
          3.4518,
          3.4511833333333333,
          3.4452666666666665,
          3.4439166666666665,
          3.4431,
          3.44085,
          3.4377166666666668,
          3.4371,
          3.4339833333333334,
          3.43355,
          3.433483333333333,
          3.4247,
          3.4082166666666667,
          3.3947833333333333,
          3.39305,
          3.386216666666667,
          3.384916666666667,
          3.3478166666666667,
          3.338,
          3.3262666666666667,
          3.31985,
          3.30735,
          3.3068,
          3.29895,
          3.294,
          3.286033333333333,
          3.282016666666667,
          3.2797666666666667,
          3.278366666666667,
          3.26835,
          3.2615166666666666,
          3.259133333333333,
          3.2532833333333335,
          3.2480166666666666,
          3.2316833333333332,
          3.221633333333333,
          3.2164166666666665,
          3.21045,
          3.20455,
          3.20075,
          3.19575,
          3.1950166666666666,
          3.18895,
          3.1835333333333335,
          3.1756166666666665,
          3.1738666666666666,
          3.1708666666666665,
          3.166516666666667,
          3.1646666666666667,
          3.164433333333333,
          3.1641666666666666,
          3.1590833333333332,
          3.158183333333333,
          3.1529166666666666,
          3.14935,
          3.1443166666666666,
          3.1367833333333333,
          3.1361666666666665,
          3.135866666666667,
          3.1341833333333335,
          3.1323833333333333,
          3.132216666666667,
          3.1321333333333334,
          3.127866666666667,
          3.1254833333333334,
          3.12115,
          3.118516666666667,
          3.1143,
          3.11145,
          3.1086833333333335,
          3.108016666666667,
          3.1061,
          3.1008166666666668,
          3.1002833333333335,
          3.0979833333333335,
          3.0955833333333334,
          3.0908333333333333,
          3.082133333333333,
          3.0814666666666666,
          3.079833333333333,
          3.0767333333333333,
          3.07585,
          3.075466666666667,
          3.071833333333333,
          3.070133333333333,
          3.0654833333333333,
          3.0565,
          3.0540833333333333,
          3.0522,
          3.0486666666666666,
          3.0441833333333332,
          3.0434666666666668,
          3.0375,
          3.0371333333333332,
          3.0357,
          3.0201166666666666,
          3.008766666666667,
          2.9966666666666666,
          2.9696,
          2.9624333333333333,
          2.9565166666666665,
          2.95285,
          2.947766666666667,
          2.93835,
          2.9264,
          2.9172833333333332,
          2.90945,
          2.9086666666666665,
          2.9037166666666665,
          2.899566666666667,
          2.8992,
          2.8938166666666665,
          2.8819166666666667,
          2.8758833333333333,
          2.8656166666666665,
          2.8508166666666668,
          2.8404666666666665,
          2.8393333333333333,
          2.83575,
          2.827,
          2.8121833333333335,
          2.800883333333333,
          2.7736833333333335,
          2.766783333333333,
          2.76645,
          2.7663,
          2.7626833333333334,
          2.7483666666666666,
          2.7371333333333334,
          2.72905,
          2.7094666666666667,
          2.693766666666667,
          2.6685166666666666,
          2.65375,
          2.6449333333333334,
          2.6386166666666666,
          2.6247166666666666,
          2.61125,
          2.568566666666667,
          2.5353166666666667,
          2.5276666666666667,
          2.5131666666666668,
          2.505333333333333,
          2.50265,
          2.4952833333333335,
          2.48555,
          2.4684333333333335,
          2.4534,
          2.4396666666666667,
          2.42965,
          2.4271333333333334,
          2.4177833333333334,
          2.4021666666666666,
          2.4019333333333335,
          2.4002333333333334,
          2.4,
          2.3808,
          2.3609333333333336,
          2.358416666666667,
          2.3406,
          2.3394666666666666,
          2.324333333333333,
          2.3,
          2.2967333333333335,
          2.2916666666666665,
          2.286383333333333,
          2.2857,
          2.26135,
          2.2543,
          2.2525,
          2.2192833333333333,
          2.1954833333333332,
          2.195333333333333,
          2.1844,
          2.155666666666667,
          2.14015,
          2.1397666666666666,
          2.12695,
          2.1125166666666666,
          2.081733333333333,
          2.0691333333333333,
          2.035633333333333,
          2.011616666666667,
          2.0071333333333334,
          1.91035,
          1.8999166666666667,
          1.8606666666666667,
          1.8503166666666666,
          1.79425,
          1.7723333333333333,
          1.76555,
          1.7596833333333333,
          1.7307666666666666,
          1.711,
          1.6978666666666666,
          1.6855166666666668,
          1.6731,
          1.6581333333333332,
          1.62735,
          1.58135,
          1.51545,
          1.44405,
          1.4269166666666666,
          1.4117333333333333,
          1.3761,
          1.3579166666666667,
          1.3041666666666667,
          1.2615666666666667,
          1.2293333333333334,
          1.1937666666666666,
          1.1495,
          1.1470333333333333,
          1.1208666666666667,
          1.1015166666666667,
          1.0984833333333333,
          1.0269833333333334,
          1.0259,
          0.9112333333333333,
          0.8746,
          0.83115,
          0.8262333333333334,
          0.8129666666666666,
          0.80375,
          0.8022833333333333,
          0.7919666666666667,
          0.7665666666666666,
          0.7564,
          0.7487833333333334,
          0.7229,
          0.6370833333333333,
          0.6343666666666666,
          0.6241333333333333,
          0.6097333333333333,
          0.6003333333333334,
          0.5477333333333333,
          0.53365,
          0.5301166666666667,
          0.514,
          0.49511666666666665,
          0.48856666666666665,
          0.4816166666666667,
          0.47978333333333334,
          0.46113333333333334,
          0.4568833333333333,
          0.45105,
          0.44745,
          0.44133333333333336,
          0.43533333333333335,
          0.43393333333333334,
          0.4260333333333333,
          0.40755,
          0.378,
          0.36138333333333333,
          0.3595,
          0.35518333333333335,
          0.34625,
          0.33298333333333335,
          0.3226833333333333,
          0.322,
          0.30533333333333335,
          0.30325,
          0.28501666666666664,
          0.2833333333333333,
          0.26645,
          0.25911666666666666,
          0.25795,
          0.25433333333333336,
          0.25333333333333335,
          0.24913333333333335,
          0.2482,
          0.24803333333333333,
          0.24056666666666668,
          0.23598333333333332,
          0.22843333333333332,
          0.21816666666666668,
          0.21411666666666668,
          0.20141666666666666,
          0.2001,
          0.1789,
          0.17718333333333333,
          0.17308333333333334,
          0.17293333333333333,
          0.15563333333333335,
          0.15561666666666665,
          0.15083333333333335,
          0.15001666666666666,
          0.1472,
          0.14548333333333333,
          0.14538333333333334,
          0.14501666666666665,
          0.14205,
          0.14205,
          0.12688333333333332,
          0.11133333333333334,
          0.1076,
          0.10753333333333333,
          0.09935,
          0.09898333333333334,
          0.098,
          0.09486666666666667,
          0.09433333333333334,
          0.09273333333333333,
          0.09006666666666667,
          0.0891,
          0.08605,
          0.08496666666666666,
          0.08231666666666666,
          0.07908333333333334,
          0.07631666666666667,
          0.07565,
          0.07015,
          0.06798333333333334,
          0.067,
          0.0658,
          0.06393333333333333,
          0.06391666666666666,
          0.060833333333333336,
          0.06066666666666667,
          0.05805,
          0.057883333333333335,
          0.05583333333333333,
          0.0535,
          0.04841666666666666,
          0.048183333333333335,
          0.04766666666666667,
          0.04585,
          0.04571666666666667,
          0.04438333333333333,
          0.04206666666666667,
          0.0409,
          0.040383333333333334,
          0.039066666666666666,
          0.038566666666666666,
          0.03743333333333333,
          0.036533333333333334,
          0.03638333333333333,
          0.0362,
          0.034333333333333334,
          0.03105,
          0.02755,
          0.027366666666666668,
          0.02735,
          0.0258,
          0.02495,
          0.018483333333333334,
          0.0182,
          0.017683333333333332,
          0.016866666666666665,
          0.015933333333333334,
          0.013066666666666667,
          0.01055,
          0.01,
          0.009716666666666667,
          0.006883333333333333,
          0.00275
         ]
        }
       ],
       "layout": {
        "template": {
         "data": {
          "bar": [
           {
            "error_x": {
             "color": "#2a3f5f"
            },
            "error_y": {
             "color": "#2a3f5f"
            },
            "marker": {
             "line": {
              "color": "#E5ECF6",
              "width": 0.5
             },
             "pattern": {
              "fillmode": "overlay",
              "size": 10,
              "solidity": 0.2
             }
            },
            "type": "bar"
           }
          ],
          "barpolar": [
           {
            "marker": {
             "line": {
              "color": "#E5ECF6",
              "width": 0.5
             },
             "pattern": {
              "fillmode": "overlay",
              "size": 10,
              "solidity": 0.2
             }
            },
            "type": "barpolar"
           }
          ],
          "carpet": [
           {
            "aaxis": {
             "endlinecolor": "#2a3f5f",
             "gridcolor": "white",
             "linecolor": "white",
             "minorgridcolor": "white",
             "startlinecolor": "#2a3f5f"
            },
            "baxis": {
             "endlinecolor": "#2a3f5f",
             "gridcolor": "white",
             "linecolor": "white",
             "minorgridcolor": "white",
             "startlinecolor": "#2a3f5f"
            },
            "type": "carpet"
           }
          ],
          "choropleth": [
           {
            "colorbar": {
             "outlinewidth": 0,
             "ticks": ""
            },
            "type": "choropleth"
           }
          ],
          "contour": [
           {
            "colorbar": {
             "outlinewidth": 0,
             "ticks": ""
            },
            "colorscale": [
             [
              0,
              "#0d0887"
             ],
             [
              0.1111111111111111,
              "#46039f"
             ],
             [
              0.2222222222222222,
              "#7201a8"
             ],
             [
              0.3333333333333333,
              "#9c179e"
             ],
             [
              0.4444444444444444,
              "#bd3786"
             ],
             [
              0.5555555555555556,
              "#d8576b"
             ],
             [
              0.6666666666666666,
              "#ed7953"
             ],
             [
              0.7777777777777778,
              "#fb9f3a"
             ],
             [
              0.8888888888888888,
              "#fdca26"
             ],
             [
              1,
              "#f0f921"
             ]
            ],
            "type": "contour"
           }
          ],
          "contourcarpet": [
           {
            "colorbar": {
             "outlinewidth": 0,
             "ticks": ""
            },
            "type": "contourcarpet"
           }
          ],
          "heatmap": [
           {
            "colorbar": {
             "outlinewidth": 0,
             "ticks": ""
            },
            "colorscale": [
             [
              0,
              "#0d0887"
             ],
             [
              0.1111111111111111,
              "#46039f"
             ],
             [
              0.2222222222222222,
              "#7201a8"
             ],
             [
              0.3333333333333333,
              "#9c179e"
             ],
             [
              0.4444444444444444,
              "#bd3786"
             ],
             [
              0.5555555555555556,
              "#d8576b"
             ],
             [
              0.6666666666666666,
              "#ed7953"
             ],
             [
              0.7777777777777778,
              "#fb9f3a"
             ],
             [
              0.8888888888888888,
              "#fdca26"
             ],
             [
              1,
              "#f0f921"
             ]
            ],
            "type": "heatmap"
           }
          ],
          "heatmapgl": [
           {
            "colorbar": {
             "outlinewidth": 0,
             "ticks": ""
            },
            "colorscale": [
             [
              0,
              "#0d0887"
             ],
             [
              0.1111111111111111,
              "#46039f"
             ],
             [
              0.2222222222222222,
              "#7201a8"
             ],
             [
              0.3333333333333333,
              "#9c179e"
             ],
             [
              0.4444444444444444,
              "#bd3786"
             ],
             [
              0.5555555555555556,
              "#d8576b"
             ],
             [
              0.6666666666666666,
              "#ed7953"
             ],
             [
              0.7777777777777778,
              "#fb9f3a"
             ],
             [
              0.8888888888888888,
              "#fdca26"
             ],
             [
              1,
              "#f0f921"
             ]
            ],
            "type": "heatmapgl"
           }
          ],
          "histogram": [
           {
            "marker": {
             "pattern": {
              "fillmode": "overlay",
              "size": 10,
              "solidity": 0.2
             }
            },
            "type": "histogram"
           }
          ],
          "histogram2d": [
           {
            "colorbar": {
             "outlinewidth": 0,
             "ticks": ""
            },
            "colorscale": [
             [
              0,
              "#0d0887"
             ],
             [
              0.1111111111111111,
              "#46039f"
             ],
             [
              0.2222222222222222,
              "#7201a8"
             ],
             [
              0.3333333333333333,
              "#9c179e"
             ],
             [
              0.4444444444444444,
              "#bd3786"
             ],
             [
              0.5555555555555556,
              "#d8576b"
             ],
             [
              0.6666666666666666,
              "#ed7953"
             ],
             [
              0.7777777777777778,
              "#fb9f3a"
             ],
             [
              0.8888888888888888,
              "#fdca26"
             ],
             [
              1,
              "#f0f921"
             ]
            ],
            "type": "histogram2d"
           }
          ],
          "histogram2dcontour": [
           {
            "colorbar": {
             "outlinewidth": 0,
             "ticks": ""
            },
            "colorscale": [
             [
              0,
              "#0d0887"
             ],
             [
              0.1111111111111111,
              "#46039f"
             ],
             [
              0.2222222222222222,
              "#7201a8"
             ],
             [
              0.3333333333333333,
              "#9c179e"
             ],
             [
              0.4444444444444444,
              "#bd3786"
             ],
             [
              0.5555555555555556,
              "#d8576b"
             ],
             [
              0.6666666666666666,
              "#ed7953"
             ],
             [
              0.7777777777777778,
              "#fb9f3a"
             ],
             [
              0.8888888888888888,
              "#fdca26"
             ],
             [
              1,
              "#f0f921"
             ]
            ],
            "type": "histogram2dcontour"
           }
          ],
          "mesh3d": [
           {
            "colorbar": {
             "outlinewidth": 0,
             "ticks": ""
            },
            "type": "mesh3d"
           }
          ],
          "parcoords": [
           {
            "line": {
             "colorbar": {
              "outlinewidth": 0,
              "ticks": ""
             }
            },
            "type": "parcoords"
           }
          ],
          "pie": [
           {
            "automargin": true,
            "type": "pie"
           }
          ],
          "scatter": [
           {
            "fillpattern": {
             "fillmode": "overlay",
             "size": 10,
             "solidity": 0.2
            },
            "type": "scatter"
           }
          ],
          "scatter3d": [
           {
            "line": {
             "colorbar": {
              "outlinewidth": 0,
              "ticks": ""
             }
            },
            "marker": {
             "colorbar": {
              "outlinewidth": 0,
              "ticks": ""
             }
            },
            "type": "scatter3d"
           }
          ],
          "scattercarpet": [
           {
            "marker": {
             "colorbar": {
              "outlinewidth": 0,
              "ticks": ""
             }
            },
            "type": "scattercarpet"
           }
          ],
          "scattergeo": [
           {
            "marker": {
             "colorbar": {
              "outlinewidth": 0,
              "ticks": ""
             }
            },
            "type": "scattergeo"
           }
          ],
          "scattergl": [
           {
            "marker": {
             "colorbar": {
              "outlinewidth": 0,
              "ticks": ""
             }
            },
            "type": "scattergl"
           }
          ],
          "scattermapbox": [
           {
            "marker": {
             "colorbar": {
              "outlinewidth": 0,
              "ticks": ""
             }
            },
            "type": "scattermapbox"
           }
          ],
          "scatterpolar": [
           {
            "marker": {
             "colorbar": {
              "outlinewidth": 0,
              "ticks": ""
             }
            },
            "type": "scatterpolar"
           }
          ],
          "scatterpolargl": [
           {
            "marker": {
             "colorbar": {
              "outlinewidth": 0,
              "ticks": ""
             }
            },
            "type": "scatterpolargl"
           }
          ],
          "scatterternary": [
           {
            "marker": {
             "colorbar": {
              "outlinewidth": 0,
              "ticks": ""
             }
            },
            "type": "scatterternary"
           }
          ],
          "surface": [
           {
            "colorbar": {
             "outlinewidth": 0,
             "ticks": ""
            },
            "colorscale": [
             [
              0,
              "#0d0887"
             ],
             [
              0.1111111111111111,
              "#46039f"
             ],
             [
              0.2222222222222222,
              "#7201a8"
             ],
             [
              0.3333333333333333,
              "#9c179e"
             ],
             [
              0.4444444444444444,
              "#bd3786"
             ],
             [
              0.5555555555555556,
              "#d8576b"
             ],
             [
              0.6666666666666666,
              "#ed7953"
             ],
             [
              0.7777777777777778,
              "#fb9f3a"
             ],
             [
              0.8888888888888888,
              "#fdca26"
             ],
             [
              1,
              "#f0f921"
             ]
            ],
            "type": "surface"
           }
          ],
          "table": [
           {
            "cells": {
             "fill": {
              "color": "#EBF0F8"
             },
             "line": {
              "color": "white"
             }
            },
            "header": {
             "fill": {
              "color": "#C8D4E3"
             },
             "line": {
              "color": "white"
             }
            },
            "type": "table"
           }
          ]
         },
         "layout": {
          "annotationdefaults": {
           "arrowcolor": "#2a3f5f",
           "arrowhead": 0,
           "arrowwidth": 1
          },
          "autotypenumbers": "strict",
          "coloraxis": {
           "colorbar": {
            "outlinewidth": 0,
            "ticks": ""
           }
          },
          "colorscale": {
           "diverging": [
            [
             0,
             "#8e0152"
            ],
            [
             0.1,
             "#c51b7d"
            ],
            [
             0.2,
             "#de77ae"
            ],
            [
             0.3,
             "#f1b6da"
            ],
            [
             0.4,
             "#fde0ef"
            ],
            [
             0.5,
             "#f7f7f7"
            ],
            [
             0.6,
             "#e6f5d0"
            ],
            [
             0.7,
             "#b8e186"
            ],
            [
             0.8,
             "#7fbc41"
            ],
            [
             0.9,
             "#4d9221"
            ],
            [
             1,
             "#276419"
            ]
           ],
           "sequential": [
            [
             0,
             "#0d0887"
            ],
            [
             0.1111111111111111,
             "#46039f"
            ],
            [
             0.2222222222222222,
             "#7201a8"
            ],
            [
             0.3333333333333333,
             "#9c179e"
            ],
            [
             0.4444444444444444,
             "#bd3786"
            ],
            [
             0.5555555555555556,
             "#d8576b"
            ],
            [
             0.6666666666666666,
             "#ed7953"
            ],
            [
             0.7777777777777778,
             "#fb9f3a"
            ],
            [
             0.8888888888888888,
             "#fdca26"
            ],
            [
             1,
             "#f0f921"
            ]
           ],
           "sequentialminus": [
            [
             0,
             "#0d0887"
            ],
            [
             0.1111111111111111,
             "#46039f"
            ],
            [
             0.2222222222222222,
             "#7201a8"
            ],
            [
             0.3333333333333333,
             "#9c179e"
            ],
            [
             0.4444444444444444,
             "#bd3786"
            ],
            [
             0.5555555555555556,
             "#d8576b"
            ],
            [
             0.6666666666666666,
             "#ed7953"
            ],
            [
             0.7777777777777778,
             "#fb9f3a"
            ],
            [
             0.8888888888888888,
             "#fdca26"
            ],
            [
             1,
             "#f0f921"
            ]
           ]
          },
          "colorway": [
           "#636efa",
           "#EF553B",
           "#00cc96",
           "#ab63fa",
           "#FFA15A",
           "#19d3f3",
           "#FF6692",
           "#B6E880",
           "#FF97FF",
           "#FECB52"
          ],
          "font": {
           "color": "#2a3f5f"
          },
          "geo": {
           "bgcolor": "white",
           "lakecolor": "white",
           "landcolor": "#E5ECF6",
           "showlakes": true,
           "showland": true,
           "subunitcolor": "white"
          },
          "hoverlabel": {
           "align": "left"
          },
          "hovermode": "closest",
          "mapbox": {
           "style": "light"
          },
          "paper_bgcolor": "white",
          "plot_bgcolor": "#E5ECF6",
          "polar": {
           "angularaxis": {
            "gridcolor": "white",
            "linecolor": "white",
            "ticks": ""
           },
           "bgcolor": "#E5ECF6",
           "radialaxis": {
            "gridcolor": "white",
            "linecolor": "white",
            "ticks": ""
           }
          },
          "scene": {
           "xaxis": {
            "backgroundcolor": "#E5ECF6",
            "gridcolor": "white",
            "gridwidth": 2,
            "linecolor": "white",
            "showbackground": true,
            "ticks": "",
            "zerolinecolor": "white"
           },
           "yaxis": {
            "backgroundcolor": "#E5ECF6",
            "gridcolor": "white",
            "gridwidth": 2,
            "linecolor": "white",
            "showbackground": true,
            "ticks": "",
            "zerolinecolor": "white"
           },
           "zaxis": {
            "backgroundcolor": "#E5ECF6",
            "gridcolor": "white",
            "gridwidth": 2,
            "linecolor": "white",
            "showbackground": true,
            "ticks": "",
            "zerolinecolor": "white"
           }
          },
          "shapedefaults": {
           "line": {
            "color": "#2a3f5f"
           }
          },
          "ternary": {
           "aaxis": {
            "gridcolor": "white",
            "linecolor": "white",
            "ticks": ""
           },
           "baxis": {
            "gridcolor": "white",
            "linecolor": "white",
            "ticks": ""
           },
           "bgcolor": "#E5ECF6",
           "caxis": {
            "gridcolor": "white",
            "linecolor": "white",
            "ticks": ""
           }
          },
          "title": {
           "x": 0.05
          },
          "xaxis": {
           "automargin": true,
           "gridcolor": "white",
           "linecolor": "white",
           "ticks": "",
           "title": {
            "standoff": 15
           },
           "zerolinecolor": "white",
           "zerolinewidth": 2
          },
          "yaxis": {
           "automargin": true,
           "gridcolor": "white",
           "linecolor": "white",
           "ticks": "",
           "title": {
            "standoff": 15
           },
           "zerolinecolor": "white",
           "zerolinewidth": 2
          }
         }
        },
        "title": {
         "text": "Listening Time Distribution by tracks"
        },
        "xaxis": {
         "title": {
          "text": "tracks"
         }
        },
        "yaxis": {
         "title": {
          "text": "Listening Time (minutes)"
         }
        }
       }
      }
     },
     "metadata": {},
     "output_type": "display_data"
    }
   ],
   "source": [
    "df_strm = pd.read_json('StreamingHistory.json')\n",
    "artist_listening_time = df_strm.groupby('artistName')['msPlayed'].sum() / (1000 * 60)\n",
    "tracks_listening_time = df_strm.groupby('trackName')['msPlayed'].sum() / (1000 * 60) \n",
    "artist_listening_time = artist_listening_time.sort_values(ascending=False)\n",
    "tracks_listening_time = tracks_listening_time.sort_values(ascending=False)\n",
    "fig_pie = go.Figure()\n",
    "fig_pie.add_trace(go.Pie(labels=artist_listening_time.index, values=artist_listening_time.values, hole=0.3, textinfo='none'))\n",
    "fig_pie.update_layout(title='Listening Time Distribution by Artist')\n",
    "fig_bar = go.Figure()\n",
    "fig_bar.add_trace(go.Bar(x=tracks_listening_time.index, y=tracks_listening_time.values))\n",
    "fig_bar.update_layout(title='Listening Time Distribution by tracks', xaxis=dict(title='tracks'), yaxis=dict(title='Listening Time (minutes)'))\n",
    "fig_pie.show()\n",
    "fig_bar.show()\n"
   ]
  },
  {
   "cell_type": "code",
   "execution_count": 6,
   "id": "afbf1438-c30e-4c61-a330-c2f191d00cdc",
   "metadata": {
    "tags": []
   },
   "outputs": [
    {
     "data": {
      "application/vnd.plotly.v1+json": {
       "config": {
        "plotlyServerURL": "https://plot.ly"
       },
       "data": [
        {
         "colorscale": [
          [
           0,
           "rgb(255,245,240)"
          ],
          [
           0.125,
           "rgb(254,224,210)"
          ],
          [
           0.25,
           "rgb(252,187,161)"
          ],
          [
           0.375,
           "rgb(252,146,114)"
          ],
          [
           0.5,
           "rgb(251,106,74)"
          ],
          [
           0.625,
           "rgb(239,59,44)"
          ],
          [
           0.75,
           "rgb(203,24,29)"
          ],
          [
           0.875,
           "rgb(165,15,21)"
          ],
          [
           1,
           "rgb(103,0,13)"
          ]
         ],
         "type": "heatmap",
         "x": [
          0,
          1,
          2,
          3,
          4,
          5,
          6,
          7,
          8,
          9,
          10,
          11,
          12,
          13,
          14,
          15,
          16,
          17,
          18,
          19,
          20,
          21,
          22,
          23
         ],
         "y": [
          "Monday",
          "Tuesday",
          "Wednesday",
          "Thursday",
          "Friday",
          "Saturday",
          "Sunday"
         ],
         "z": [
          [
           null,
           null,
           21,
           18,
           13,
           null,
           15,
           8,
           15,
           25,
           1,
           null,
           9,
           null,
           11,
           7,
           null,
           null,
           null
          ],
          [
           13,
           13,
           19,
           9,
           1,
           3,
           11,
           10,
           null,
           null,
           null,
           1,
           null,
           null,
           null,
           null,
           null,
           23,
           11
          ],
          [
           4,
           null,
           33,
           6,
           null,
           null,
           null,
           null,
           30,
           6,
           7,
           11,
           5,
           12,
           null,
           null,
           6,
           null,
           null
          ],
          [
           null,
           null,
           null,
           7,
           null,
           17,
           1,
           13,
           10,
           10,
           18,
           20,
           13,
           16,
           13,
           13,
           1,
           null,
           2
          ],
          [
           null,
           null,
           1,
           10,
           null,
           null,
           null,
           null,
           1,
           5,
           3,
           22,
           26,
           1,
           null,
           4,
           null,
           null,
           null
          ],
          [
           null,
           11,
           null,
           null,
           2,
           17,
           1,
           36,
           null,
           9,
           19,
           28,
           29,
           6,
           null,
           1,
           11,
           null,
           null
          ],
          [
           null,
           null,
           null,
           1,
           1,
           null,
           5,
           3,
           null,
           null,
           null,
           15,
           2,
           3,
           9,
           1,
           6,
           3,
           10
          ]
         ]
        }
       ],
       "layout": {
        "margin": {
         "b": 50,
         "l": 50,
         "r": 50,
         "t": 50
        },
        "template": {
         "data": {
          "bar": [
           {
            "error_x": {
             "color": "#2a3f5f"
            },
            "error_y": {
             "color": "#2a3f5f"
            },
            "marker": {
             "line": {
              "color": "#E5ECF6",
              "width": 0.5
             },
             "pattern": {
              "fillmode": "overlay",
              "size": 10,
              "solidity": 0.2
             }
            },
            "type": "bar"
           }
          ],
          "barpolar": [
           {
            "marker": {
             "line": {
              "color": "#E5ECF6",
              "width": 0.5
             },
             "pattern": {
              "fillmode": "overlay",
              "size": 10,
              "solidity": 0.2
             }
            },
            "type": "barpolar"
           }
          ],
          "carpet": [
           {
            "aaxis": {
             "endlinecolor": "#2a3f5f",
             "gridcolor": "white",
             "linecolor": "white",
             "minorgridcolor": "white",
             "startlinecolor": "#2a3f5f"
            },
            "baxis": {
             "endlinecolor": "#2a3f5f",
             "gridcolor": "white",
             "linecolor": "white",
             "minorgridcolor": "white",
             "startlinecolor": "#2a3f5f"
            },
            "type": "carpet"
           }
          ],
          "choropleth": [
           {
            "colorbar": {
             "outlinewidth": 0,
             "ticks": ""
            },
            "type": "choropleth"
           }
          ],
          "contour": [
           {
            "colorbar": {
             "outlinewidth": 0,
             "ticks": ""
            },
            "colorscale": [
             [
              0,
              "#0d0887"
             ],
             [
              0.1111111111111111,
              "#46039f"
             ],
             [
              0.2222222222222222,
              "#7201a8"
             ],
             [
              0.3333333333333333,
              "#9c179e"
             ],
             [
              0.4444444444444444,
              "#bd3786"
             ],
             [
              0.5555555555555556,
              "#d8576b"
             ],
             [
              0.6666666666666666,
              "#ed7953"
             ],
             [
              0.7777777777777778,
              "#fb9f3a"
             ],
             [
              0.8888888888888888,
              "#fdca26"
             ],
             [
              1,
              "#f0f921"
             ]
            ],
            "type": "contour"
           }
          ],
          "contourcarpet": [
           {
            "colorbar": {
             "outlinewidth": 0,
             "ticks": ""
            },
            "type": "contourcarpet"
           }
          ],
          "heatmap": [
           {
            "colorbar": {
             "outlinewidth": 0,
             "ticks": ""
            },
            "colorscale": [
             [
              0,
              "#0d0887"
             ],
             [
              0.1111111111111111,
              "#46039f"
             ],
             [
              0.2222222222222222,
              "#7201a8"
             ],
             [
              0.3333333333333333,
              "#9c179e"
             ],
             [
              0.4444444444444444,
              "#bd3786"
             ],
             [
              0.5555555555555556,
              "#d8576b"
             ],
             [
              0.6666666666666666,
              "#ed7953"
             ],
             [
              0.7777777777777778,
              "#fb9f3a"
             ],
             [
              0.8888888888888888,
              "#fdca26"
             ],
             [
              1,
              "#f0f921"
             ]
            ],
            "type": "heatmap"
           }
          ],
          "heatmapgl": [
           {
            "colorbar": {
             "outlinewidth": 0,
             "ticks": ""
            },
            "colorscale": [
             [
              0,
              "#0d0887"
             ],
             [
              0.1111111111111111,
              "#46039f"
             ],
             [
              0.2222222222222222,
              "#7201a8"
             ],
             [
              0.3333333333333333,
              "#9c179e"
             ],
             [
              0.4444444444444444,
              "#bd3786"
             ],
             [
              0.5555555555555556,
              "#d8576b"
             ],
             [
              0.6666666666666666,
              "#ed7953"
             ],
             [
              0.7777777777777778,
              "#fb9f3a"
             ],
             [
              0.8888888888888888,
              "#fdca26"
             ],
             [
              1,
              "#f0f921"
             ]
            ],
            "type": "heatmapgl"
           }
          ],
          "histogram": [
           {
            "marker": {
             "pattern": {
              "fillmode": "overlay",
              "size": 10,
              "solidity": 0.2
             }
            },
            "type": "histogram"
           }
          ],
          "histogram2d": [
           {
            "colorbar": {
             "outlinewidth": 0,
             "ticks": ""
            },
            "colorscale": [
             [
              0,
              "#0d0887"
             ],
             [
              0.1111111111111111,
              "#46039f"
             ],
             [
              0.2222222222222222,
              "#7201a8"
             ],
             [
              0.3333333333333333,
              "#9c179e"
             ],
             [
              0.4444444444444444,
              "#bd3786"
             ],
             [
              0.5555555555555556,
              "#d8576b"
             ],
             [
              0.6666666666666666,
              "#ed7953"
             ],
             [
              0.7777777777777778,
              "#fb9f3a"
             ],
             [
              0.8888888888888888,
              "#fdca26"
             ],
             [
              1,
              "#f0f921"
             ]
            ],
            "type": "histogram2d"
           }
          ],
          "histogram2dcontour": [
           {
            "colorbar": {
             "outlinewidth": 0,
             "ticks": ""
            },
            "colorscale": [
             [
              0,
              "#0d0887"
             ],
             [
              0.1111111111111111,
              "#46039f"
             ],
             [
              0.2222222222222222,
              "#7201a8"
             ],
             [
              0.3333333333333333,
              "#9c179e"
             ],
             [
              0.4444444444444444,
              "#bd3786"
             ],
             [
              0.5555555555555556,
              "#d8576b"
             ],
             [
              0.6666666666666666,
              "#ed7953"
             ],
             [
              0.7777777777777778,
              "#fb9f3a"
             ],
             [
              0.8888888888888888,
              "#fdca26"
             ],
             [
              1,
              "#f0f921"
             ]
            ],
            "type": "histogram2dcontour"
           }
          ],
          "mesh3d": [
           {
            "colorbar": {
             "outlinewidth": 0,
             "ticks": ""
            },
            "type": "mesh3d"
           }
          ],
          "parcoords": [
           {
            "line": {
             "colorbar": {
              "outlinewidth": 0,
              "ticks": ""
             }
            },
            "type": "parcoords"
           }
          ],
          "pie": [
           {
            "automargin": true,
            "type": "pie"
           }
          ],
          "scatter": [
           {
            "fillpattern": {
             "fillmode": "overlay",
             "size": 10,
             "solidity": 0.2
            },
            "type": "scatter"
           }
          ],
          "scatter3d": [
           {
            "line": {
             "colorbar": {
              "outlinewidth": 0,
              "ticks": ""
             }
            },
            "marker": {
             "colorbar": {
              "outlinewidth": 0,
              "ticks": ""
             }
            },
            "type": "scatter3d"
           }
          ],
          "scattercarpet": [
           {
            "marker": {
             "colorbar": {
              "outlinewidth": 0,
              "ticks": ""
             }
            },
            "type": "scattercarpet"
           }
          ],
          "scattergeo": [
           {
            "marker": {
             "colorbar": {
              "outlinewidth": 0,
              "ticks": ""
             }
            },
            "type": "scattergeo"
           }
          ],
          "scattergl": [
           {
            "marker": {
             "colorbar": {
              "outlinewidth": 0,
              "ticks": ""
             }
            },
            "type": "scattergl"
           }
          ],
          "scattermapbox": [
           {
            "marker": {
             "colorbar": {
              "outlinewidth": 0,
              "ticks": ""
             }
            },
            "type": "scattermapbox"
           }
          ],
          "scatterpolar": [
           {
            "marker": {
             "colorbar": {
              "outlinewidth": 0,
              "ticks": ""
             }
            },
            "type": "scatterpolar"
           }
          ],
          "scatterpolargl": [
           {
            "marker": {
             "colorbar": {
              "outlinewidth": 0,
              "ticks": ""
             }
            },
            "type": "scatterpolargl"
           }
          ],
          "scatterternary": [
           {
            "marker": {
             "colorbar": {
              "outlinewidth": 0,
              "ticks": ""
             }
            },
            "type": "scatterternary"
           }
          ],
          "surface": [
           {
            "colorbar": {
             "outlinewidth": 0,
             "ticks": ""
            },
            "colorscale": [
             [
              0,
              "#0d0887"
             ],
             [
              0.1111111111111111,
              "#46039f"
             ],
             [
              0.2222222222222222,
              "#7201a8"
             ],
             [
              0.3333333333333333,
              "#9c179e"
             ],
             [
              0.4444444444444444,
              "#bd3786"
             ],
             [
              0.5555555555555556,
              "#d8576b"
             ],
             [
              0.6666666666666666,
              "#ed7953"
             ],
             [
              0.7777777777777778,
              "#fb9f3a"
             ],
             [
              0.8888888888888888,
              "#fdca26"
             ],
             [
              1,
              "#f0f921"
             ]
            ],
            "type": "surface"
           }
          ],
          "table": [
           {
            "cells": {
             "fill": {
              "color": "#EBF0F8"
             },
             "line": {
              "color": "white"
             }
            },
            "header": {
             "fill": {
              "color": "#C8D4E3"
             },
             "line": {
              "color": "white"
             }
            },
            "type": "table"
           }
          ]
         },
         "layout": {
          "annotationdefaults": {
           "arrowcolor": "#2a3f5f",
           "arrowhead": 0,
           "arrowwidth": 1
          },
          "autotypenumbers": "strict",
          "coloraxis": {
           "colorbar": {
            "outlinewidth": 0,
            "ticks": ""
           }
          },
          "colorscale": {
           "diverging": [
            [
             0,
             "#8e0152"
            ],
            [
             0.1,
             "#c51b7d"
            ],
            [
             0.2,
             "#de77ae"
            ],
            [
             0.3,
             "#f1b6da"
            ],
            [
             0.4,
             "#fde0ef"
            ],
            [
             0.5,
             "#f7f7f7"
            ],
            [
             0.6,
             "#e6f5d0"
            ],
            [
             0.7,
             "#b8e186"
            ],
            [
             0.8,
             "#7fbc41"
            ],
            [
             0.9,
             "#4d9221"
            ],
            [
             1,
             "#276419"
            ]
           ],
           "sequential": [
            [
             0,
             "#0d0887"
            ],
            [
             0.1111111111111111,
             "#46039f"
            ],
            [
             0.2222222222222222,
             "#7201a8"
            ],
            [
             0.3333333333333333,
             "#9c179e"
            ],
            [
             0.4444444444444444,
             "#bd3786"
            ],
            [
             0.5555555555555556,
             "#d8576b"
            ],
            [
             0.6666666666666666,
             "#ed7953"
            ],
            [
             0.7777777777777778,
             "#fb9f3a"
            ],
            [
             0.8888888888888888,
             "#fdca26"
            ],
            [
             1,
             "#f0f921"
            ]
           ],
           "sequentialminus": [
            [
             0,
             "#0d0887"
            ],
            [
             0.1111111111111111,
             "#46039f"
            ],
            [
             0.2222222222222222,
             "#7201a8"
            ],
            [
             0.3333333333333333,
             "#9c179e"
            ],
            [
             0.4444444444444444,
             "#bd3786"
            ],
            [
             0.5555555555555556,
             "#d8576b"
            ],
            [
             0.6666666666666666,
             "#ed7953"
            ],
            [
             0.7777777777777778,
             "#fb9f3a"
            ],
            [
             0.8888888888888888,
             "#fdca26"
            ],
            [
             1,
             "#f0f921"
            ]
           ]
          },
          "colorway": [
           "#636efa",
           "#EF553B",
           "#00cc96",
           "#ab63fa",
           "#FFA15A",
           "#19d3f3",
           "#FF6692",
           "#B6E880",
           "#FF97FF",
           "#FECB52"
          ],
          "font": {
           "color": "#2a3f5f"
          },
          "geo": {
           "bgcolor": "white",
           "lakecolor": "white",
           "landcolor": "#E5ECF6",
           "showlakes": true,
           "showland": true,
           "subunitcolor": "white"
          },
          "hoverlabel": {
           "align": "left"
          },
          "hovermode": "closest",
          "mapbox": {
           "style": "light"
          },
          "paper_bgcolor": "white",
          "plot_bgcolor": "#E5ECF6",
          "polar": {
           "angularaxis": {
            "gridcolor": "white",
            "linecolor": "white",
            "ticks": ""
           },
           "bgcolor": "#E5ECF6",
           "radialaxis": {
            "gridcolor": "white",
            "linecolor": "white",
            "ticks": ""
           }
          },
          "scene": {
           "xaxis": {
            "backgroundcolor": "#E5ECF6",
            "gridcolor": "white",
            "gridwidth": 2,
            "linecolor": "white",
            "showbackground": true,
            "ticks": "",
            "zerolinecolor": "white"
           },
           "yaxis": {
            "backgroundcolor": "#E5ECF6",
            "gridcolor": "white",
            "gridwidth": 2,
            "linecolor": "white",
            "showbackground": true,
            "ticks": "",
            "zerolinecolor": "white"
           },
           "zaxis": {
            "backgroundcolor": "#E5ECF6",
            "gridcolor": "white",
            "gridwidth": 2,
            "linecolor": "white",
            "showbackground": true,
            "ticks": "",
            "zerolinecolor": "white"
           }
          },
          "shapedefaults": {
           "line": {
            "color": "#2a3f5f"
           }
          },
          "ternary": {
           "aaxis": {
            "gridcolor": "white",
            "linecolor": "white",
            "ticks": ""
           },
           "baxis": {
            "gridcolor": "white",
            "linecolor": "white",
            "ticks": ""
           },
           "bgcolor": "#E5ECF6",
           "caxis": {
            "gridcolor": "white",
            "linecolor": "white",
            "ticks": ""
           }
          },
          "title": {
           "x": 0.05
          },
          "xaxis": {
           "automargin": true,
           "gridcolor": "white",
           "linecolor": "white",
           "ticks": "",
           "title": {
            "standoff": 15
           },
           "zerolinecolor": "white",
           "zerolinewidth": 2
          },
          "yaxis": {
           "automargin": true,
           "gridcolor": "white",
           "linecolor": "white",
           "ticks": "",
           "title": {
            "standoff": 15
           },
           "zerolinecolor": "white",
           "zerolinewidth": 2
          }
         }
        },
        "title": {
         "text": "Listening Frequency Heatmap"
        },
        "xaxis": {
         "title": {
          "text": "Hour of the Day"
         }
        },
        "yaxis": {
         "title": {
          "text": "Day of the Week"
         }
        }
       }
      }
     },
     "metadata": {},
     "output_type": "display_data"
    }
   ],
   "source": [
    "df_strm = pd.read_json('StreamingHistory.json')\n",
    "df_strm['endTime'] = pd.to_datetime(df_strm['endTime'])\n",
    "df_strm['day_of_week'] = df_strm['endTime'].dt.dayofweek\n",
    "df_strm['hour_of_day'] = df_strm['endTime'].dt.hour\n",
    "listening_frequency = df_strm.groupby(['day_of_week', 'hour_of_day']).size().unstack()\n",
    "listening_frequency = listening_frequency.reindex(index=[0, 1, 2, 3, 4, 5, 6])\n",
    "\n",
    "fig_heatmap = go.Figure(data=go.Heatmap(\n",
    "    z=listening_frequency.values,\n",
    "    x=list(range(24)),  # Hours of the day\n",
    "    y=['Monday', 'Tuesday', 'Wednesday', 'Thursday', 'Friday', 'Saturday', 'Sunday'],\n",
    "    colorscale='Reds',  # Color scale\n",
    "))\n",
    "\n",
    "fig_heatmap.update_layout(\n",
    "    title='Listening Frequency Heatmap',\n",
    "    xaxis=dict(title='Hour of the Day'),\n",
    "    yaxis=dict(title='Day of the Week'),\n",
    "    margin=dict(l=50, r=50, t=50, b=50),\n",
    ")\n",
    "fig_heatmap.show()\n"
   ]
  },
  {
   "cell_type": "code",
   "execution_count": 7,
   "id": "2cec37fa",
   "metadata": {},
   "outputs": [],
   "source": [
    "df_strm = pd.read_json('StreamingHistory.json')\n",
    "def classify_sentiment(track_name):\n",
    "    analysis = TextBlob(track_name)\n",
    "    if analysis.sentiment.polarity > 0:\n",
    "        return 'Happy'\n",
    "    elif analysis.sentiment.polarity < 0:\n",
    "        return 'Sad'\n",
    "    else:\n",
    "        return 'Neutral'\n",
    "\n",
    "df_strm['sentiment']  = df_strm['trackName'].apply(lambda x: classify_sentiment(x))"
   ]
  },
  {
   "cell_type": "code",
   "execution_count": 8,
   "id": "c39dab80",
   "metadata": {},
   "outputs": [
    {
     "data": {
      "application/vnd.plotly.v1+json": {
       "config": {
        "plotlyServerURL": "https://plot.ly"
       },
       "data": [
        {
         "name": "Happy",
         "type": "bar",
         "x": [
          0,
          5,
          6,
          7,
          8,
          9,
          10,
          11,
          12,
          13,
          14,
          15,
          16,
          17,
          18,
          19,
          20,
          21,
          22
         ],
         "y": [
          0,
          5,
          11,
          9,
          3,
          1,
          10,
          4,
          11,
          6,
          5,
          12,
          10,
          3,
          4,
          4,
          4,
          3,
          1
         ]
        },
        {
         "name": "Neutral",
         "type": "bar",
         "x": [
          0,
          5,
          6,
          7,
          8,
          9,
          10,
          11,
          12,
          13,
          14,
          15,
          16,
          17,
          18,
          19,
          20,
          21,
          22
         ],
         "y": [
          16,
          16,
          62,
          33,
          13,
          34,
          20,
          60,
          38,
          46,
          39,
          79,
          71,
          34,
          23,
          19,
          18,
          22,
          21
         ]
        },
        {
         "name": "Sad",
         "type": "bar",
         "x": [
          0,
          5,
          6,
          7,
          8,
          9,
          10,
          11,
          12,
          13,
          14,
          15,
          16,
          17,
          18,
          19,
          20,
          21,
          22
         ],
         "y": [
          1,
          3,
          1,
          9,
          1,
          2,
          3,
          6,
          7,
          3,
          4,
          6,
          3,
          1,
          6,
          3,
          2,
          1,
          1
         ]
        }
       ],
       "layout": {
        "barmode": "stack",
        "template": {
         "data": {
          "bar": [
           {
            "error_x": {
             "color": "#2a3f5f"
            },
            "error_y": {
             "color": "#2a3f5f"
            },
            "marker": {
             "line": {
              "color": "#E5ECF6",
              "width": 0.5
             },
             "pattern": {
              "fillmode": "overlay",
              "size": 10,
              "solidity": 0.2
             }
            },
            "type": "bar"
           }
          ],
          "barpolar": [
           {
            "marker": {
             "line": {
              "color": "#E5ECF6",
              "width": 0.5
             },
             "pattern": {
              "fillmode": "overlay",
              "size": 10,
              "solidity": 0.2
             }
            },
            "type": "barpolar"
           }
          ],
          "carpet": [
           {
            "aaxis": {
             "endlinecolor": "#2a3f5f",
             "gridcolor": "white",
             "linecolor": "white",
             "minorgridcolor": "white",
             "startlinecolor": "#2a3f5f"
            },
            "baxis": {
             "endlinecolor": "#2a3f5f",
             "gridcolor": "white",
             "linecolor": "white",
             "minorgridcolor": "white",
             "startlinecolor": "#2a3f5f"
            },
            "type": "carpet"
           }
          ],
          "choropleth": [
           {
            "colorbar": {
             "outlinewidth": 0,
             "ticks": ""
            },
            "type": "choropleth"
           }
          ],
          "contour": [
           {
            "colorbar": {
             "outlinewidth": 0,
             "ticks": ""
            },
            "colorscale": [
             [
              0,
              "#0d0887"
             ],
             [
              0.1111111111111111,
              "#46039f"
             ],
             [
              0.2222222222222222,
              "#7201a8"
             ],
             [
              0.3333333333333333,
              "#9c179e"
             ],
             [
              0.4444444444444444,
              "#bd3786"
             ],
             [
              0.5555555555555556,
              "#d8576b"
             ],
             [
              0.6666666666666666,
              "#ed7953"
             ],
             [
              0.7777777777777778,
              "#fb9f3a"
             ],
             [
              0.8888888888888888,
              "#fdca26"
             ],
             [
              1,
              "#f0f921"
             ]
            ],
            "type": "contour"
           }
          ],
          "contourcarpet": [
           {
            "colorbar": {
             "outlinewidth": 0,
             "ticks": ""
            },
            "type": "contourcarpet"
           }
          ],
          "heatmap": [
           {
            "colorbar": {
             "outlinewidth": 0,
             "ticks": ""
            },
            "colorscale": [
             [
              0,
              "#0d0887"
             ],
             [
              0.1111111111111111,
              "#46039f"
             ],
             [
              0.2222222222222222,
              "#7201a8"
             ],
             [
              0.3333333333333333,
              "#9c179e"
             ],
             [
              0.4444444444444444,
              "#bd3786"
             ],
             [
              0.5555555555555556,
              "#d8576b"
             ],
             [
              0.6666666666666666,
              "#ed7953"
             ],
             [
              0.7777777777777778,
              "#fb9f3a"
             ],
             [
              0.8888888888888888,
              "#fdca26"
             ],
             [
              1,
              "#f0f921"
             ]
            ],
            "type": "heatmap"
           }
          ],
          "heatmapgl": [
           {
            "colorbar": {
             "outlinewidth": 0,
             "ticks": ""
            },
            "colorscale": [
             [
              0,
              "#0d0887"
             ],
             [
              0.1111111111111111,
              "#46039f"
             ],
             [
              0.2222222222222222,
              "#7201a8"
             ],
             [
              0.3333333333333333,
              "#9c179e"
             ],
             [
              0.4444444444444444,
              "#bd3786"
             ],
             [
              0.5555555555555556,
              "#d8576b"
             ],
             [
              0.6666666666666666,
              "#ed7953"
             ],
             [
              0.7777777777777778,
              "#fb9f3a"
             ],
             [
              0.8888888888888888,
              "#fdca26"
             ],
             [
              1,
              "#f0f921"
             ]
            ],
            "type": "heatmapgl"
           }
          ],
          "histogram": [
           {
            "marker": {
             "pattern": {
              "fillmode": "overlay",
              "size": 10,
              "solidity": 0.2
             }
            },
            "type": "histogram"
           }
          ],
          "histogram2d": [
           {
            "colorbar": {
             "outlinewidth": 0,
             "ticks": ""
            },
            "colorscale": [
             [
              0,
              "#0d0887"
             ],
             [
              0.1111111111111111,
              "#46039f"
             ],
             [
              0.2222222222222222,
              "#7201a8"
             ],
             [
              0.3333333333333333,
              "#9c179e"
             ],
             [
              0.4444444444444444,
              "#bd3786"
             ],
             [
              0.5555555555555556,
              "#d8576b"
             ],
             [
              0.6666666666666666,
              "#ed7953"
             ],
             [
              0.7777777777777778,
              "#fb9f3a"
             ],
             [
              0.8888888888888888,
              "#fdca26"
             ],
             [
              1,
              "#f0f921"
             ]
            ],
            "type": "histogram2d"
           }
          ],
          "histogram2dcontour": [
           {
            "colorbar": {
             "outlinewidth": 0,
             "ticks": ""
            },
            "colorscale": [
             [
              0,
              "#0d0887"
             ],
             [
              0.1111111111111111,
              "#46039f"
             ],
             [
              0.2222222222222222,
              "#7201a8"
             ],
             [
              0.3333333333333333,
              "#9c179e"
             ],
             [
              0.4444444444444444,
              "#bd3786"
             ],
             [
              0.5555555555555556,
              "#d8576b"
             ],
             [
              0.6666666666666666,
              "#ed7953"
             ],
             [
              0.7777777777777778,
              "#fb9f3a"
             ],
             [
              0.8888888888888888,
              "#fdca26"
             ],
             [
              1,
              "#f0f921"
             ]
            ],
            "type": "histogram2dcontour"
           }
          ],
          "mesh3d": [
           {
            "colorbar": {
             "outlinewidth": 0,
             "ticks": ""
            },
            "type": "mesh3d"
           }
          ],
          "parcoords": [
           {
            "line": {
             "colorbar": {
              "outlinewidth": 0,
              "ticks": ""
             }
            },
            "type": "parcoords"
           }
          ],
          "pie": [
           {
            "automargin": true,
            "type": "pie"
           }
          ],
          "scatter": [
           {
            "fillpattern": {
             "fillmode": "overlay",
             "size": 10,
             "solidity": 0.2
            },
            "type": "scatter"
           }
          ],
          "scatter3d": [
           {
            "line": {
             "colorbar": {
              "outlinewidth": 0,
              "ticks": ""
             }
            },
            "marker": {
             "colorbar": {
              "outlinewidth": 0,
              "ticks": ""
             }
            },
            "type": "scatter3d"
           }
          ],
          "scattercarpet": [
           {
            "marker": {
             "colorbar": {
              "outlinewidth": 0,
              "ticks": ""
             }
            },
            "type": "scattercarpet"
           }
          ],
          "scattergeo": [
           {
            "marker": {
             "colorbar": {
              "outlinewidth": 0,
              "ticks": ""
             }
            },
            "type": "scattergeo"
           }
          ],
          "scattergl": [
           {
            "marker": {
             "colorbar": {
              "outlinewidth": 0,
              "ticks": ""
             }
            },
            "type": "scattergl"
           }
          ],
          "scattermapbox": [
           {
            "marker": {
             "colorbar": {
              "outlinewidth": 0,
              "ticks": ""
             }
            },
            "type": "scattermapbox"
           }
          ],
          "scatterpolar": [
           {
            "marker": {
             "colorbar": {
              "outlinewidth": 0,
              "ticks": ""
             }
            },
            "type": "scatterpolar"
           }
          ],
          "scatterpolargl": [
           {
            "marker": {
             "colorbar": {
              "outlinewidth": 0,
              "ticks": ""
             }
            },
            "type": "scatterpolargl"
           }
          ],
          "scatterternary": [
           {
            "marker": {
             "colorbar": {
              "outlinewidth": 0,
              "ticks": ""
             }
            },
            "type": "scatterternary"
           }
          ],
          "surface": [
           {
            "colorbar": {
             "outlinewidth": 0,
             "ticks": ""
            },
            "colorscale": [
             [
              0,
              "#0d0887"
             ],
             [
              0.1111111111111111,
              "#46039f"
             ],
             [
              0.2222222222222222,
              "#7201a8"
             ],
             [
              0.3333333333333333,
              "#9c179e"
             ],
             [
              0.4444444444444444,
              "#bd3786"
             ],
             [
              0.5555555555555556,
              "#d8576b"
             ],
             [
              0.6666666666666666,
              "#ed7953"
             ],
             [
              0.7777777777777778,
              "#fb9f3a"
             ],
             [
              0.8888888888888888,
              "#fdca26"
             ],
             [
              1,
              "#f0f921"
             ]
            ],
            "type": "surface"
           }
          ],
          "table": [
           {
            "cells": {
             "fill": {
              "color": "#EBF0F8"
             },
             "line": {
              "color": "white"
             }
            },
            "header": {
             "fill": {
              "color": "#C8D4E3"
             },
             "line": {
              "color": "white"
             }
            },
            "type": "table"
           }
          ]
         },
         "layout": {
          "annotationdefaults": {
           "arrowcolor": "#2a3f5f",
           "arrowhead": 0,
           "arrowwidth": 1
          },
          "autotypenumbers": "strict",
          "coloraxis": {
           "colorbar": {
            "outlinewidth": 0,
            "ticks": ""
           }
          },
          "colorscale": {
           "diverging": [
            [
             0,
             "#8e0152"
            ],
            [
             0.1,
             "#c51b7d"
            ],
            [
             0.2,
             "#de77ae"
            ],
            [
             0.3,
             "#f1b6da"
            ],
            [
             0.4,
             "#fde0ef"
            ],
            [
             0.5,
             "#f7f7f7"
            ],
            [
             0.6,
             "#e6f5d0"
            ],
            [
             0.7,
             "#b8e186"
            ],
            [
             0.8,
             "#7fbc41"
            ],
            [
             0.9,
             "#4d9221"
            ],
            [
             1,
             "#276419"
            ]
           ],
           "sequential": [
            [
             0,
             "#0d0887"
            ],
            [
             0.1111111111111111,
             "#46039f"
            ],
            [
             0.2222222222222222,
             "#7201a8"
            ],
            [
             0.3333333333333333,
             "#9c179e"
            ],
            [
             0.4444444444444444,
             "#bd3786"
            ],
            [
             0.5555555555555556,
             "#d8576b"
            ],
            [
             0.6666666666666666,
             "#ed7953"
            ],
            [
             0.7777777777777778,
             "#fb9f3a"
            ],
            [
             0.8888888888888888,
             "#fdca26"
            ],
            [
             1,
             "#f0f921"
            ]
           ],
           "sequentialminus": [
            [
             0,
             "#0d0887"
            ],
            [
             0.1111111111111111,
             "#46039f"
            ],
            [
             0.2222222222222222,
             "#7201a8"
            ],
            [
             0.3333333333333333,
             "#9c179e"
            ],
            [
             0.4444444444444444,
             "#bd3786"
            ],
            [
             0.5555555555555556,
             "#d8576b"
            ],
            [
             0.6666666666666666,
             "#ed7953"
            ],
            [
             0.7777777777777778,
             "#fb9f3a"
            ],
            [
             0.8888888888888888,
             "#fdca26"
            ],
            [
             1,
             "#f0f921"
            ]
           ]
          },
          "colorway": [
           "#636efa",
           "#EF553B",
           "#00cc96",
           "#ab63fa",
           "#FFA15A",
           "#19d3f3",
           "#FF6692",
           "#B6E880",
           "#FF97FF",
           "#FECB52"
          ],
          "font": {
           "color": "#2a3f5f"
          },
          "geo": {
           "bgcolor": "white",
           "lakecolor": "white",
           "landcolor": "#E5ECF6",
           "showlakes": true,
           "showland": true,
           "subunitcolor": "white"
          },
          "hoverlabel": {
           "align": "left"
          },
          "hovermode": "closest",
          "mapbox": {
           "style": "light"
          },
          "paper_bgcolor": "white",
          "plot_bgcolor": "#E5ECF6",
          "polar": {
           "angularaxis": {
            "gridcolor": "white",
            "linecolor": "white",
            "ticks": ""
           },
           "bgcolor": "#E5ECF6",
           "radialaxis": {
            "gridcolor": "white",
            "linecolor": "white",
            "ticks": ""
           }
          },
          "scene": {
           "xaxis": {
            "backgroundcolor": "#E5ECF6",
            "gridcolor": "white",
            "gridwidth": 2,
            "linecolor": "white",
            "showbackground": true,
            "ticks": "",
            "zerolinecolor": "white"
           },
           "yaxis": {
            "backgroundcolor": "#E5ECF6",
            "gridcolor": "white",
            "gridwidth": 2,
            "linecolor": "white",
            "showbackground": true,
            "ticks": "",
            "zerolinecolor": "white"
           },
           "zaxis": {
            "backgroundcolor": "#E5ECF6",
            "gridcolor": "white",
            "gridwidth": 2,
            "linecolor": "white",
            "showbackground": true,
            "ticks": "",
            "zerolinecolor": "white"
           }
          },
          "shapedefaults": {
           "line": {
            "color": "#2a3f5f"
           }
          },
          "ternary": {
           "aaxis": {
            "gridcolor": "white",
            "linecolor": "white",
            "ticks": ""
           },
           "baxis": {
            "gridcolor": "white",
            "linecolor": "white",
            "ticks": ""
           },
           "bgcolor": "#E5ECF6",
           "caxis": {
            "gridcolor": "white",
            "linecolor": "white",
            "ticks": ""
           }
          },
          "title": {
           "x": 0.05
          },
          "xaxis": {
           "automargin": true,
           "gridcolor": "white",
           "linecolor": "white",
           "ticks": "",
           "title": {
            "standoff": 15
           },
           "zerolinecolor": "white",
           "zerolinewidth": 2
          },
          "yaxis": {
           "automargin": true,
           "gridcolor": "white",
           "linecolor": "white",
           "ticks": "",
           "title": {
            "standoff": 15
           },
           "zerolinecolor": "white",
           "zerolinewidth": 2
          }
         }
        },
        "title": {
         "text": "Sentiment Distribution by Hour of the Day"
        },
        "xaxis": {
         "title": {
          "text": "Hour of the Day"
         }
        },
        "yaxis": {
         "title": {
          "text": "Number of Songs"
         }
        }
       }
      }
     },
     "metadata": {},
     "output_type": "display_data"
    }
   ],
   "source": [
    "df_strm['endTime'] = pd.to_datetime(df_strm['endTime'])\n",
    "df_strm['hour_of_day'] = df_strm['endTime'].dt.hour\n",
    "sentiment_distribution = df_strm.groupby(['hour_of_day', 'sentiment']).size().unstack().fillna(0)\n",
    "fig_bar = go.Figure()\n",
    "for sentiment in sentiment_distribution.columns:\n",
    "    fig_bar.add_trace(go.Bar(\n",
    "        x=sentiment_distribution.index,\n",
    "        y=sentiment_distribution[sentiment],\n",
    "        name=sentiment\n",
    "    ))\n",
    "\n",
    "fig_bar.update_layout(\n",
    "    title='Sentiment Distribution by Hour of the Day',\n",
    "    xaxis=dict(title='Hour of the Day'),\n",
    "    yaxis=dict(title='Number of Songs'),\n",
    "    barmode='stack',\n",
    ")\n",
    "fig_bar.show()\n"
   ]
  }
 ],
 "metadata": {
  "kernelspec": {
   "display_name": "Python 3 (ipykernel)",
   "language": "python",
   "name": "python3"
  },
  "language_info": {
   "codemirror_mode": {
    "name": "ipython",
    "version": 3
   },
   "file_extension": ".py",
   "mimetype": "text/x-python",
   "name": "python",
   "nbconvert_exporter": "python",
   "pygments_lexer": "ipython3",
   "version": "3.9.5"
  }
 },
 "nbformat": 4,
 "nbformat_minor": 5
}
